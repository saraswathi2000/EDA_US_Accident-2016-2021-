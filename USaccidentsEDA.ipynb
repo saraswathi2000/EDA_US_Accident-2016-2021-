{
  "nbformat": 4,
  "nbformat_minor": 0,
  "metadata": {
    "colab": {
      "provenance": []
    },
    "kernelspec": {
      "name": "python3",
      "display_name": "Python 3"
    },
    "language_info": {
      "name": "python"
    }
  },
  "cells": [
    {
      "cell_type": "markdown",
      "source": [
        "# US Acccidents EXPLORATORY DATA ANALYSIS\n",
        "\n",
        "- The Source of this dataset is kaggle\n",
        "- It contains information about accidents happend in US between 2016 to 2021\n",
        "- It can be useful to prevent Accidents."
      ],
      "metadata": {
        "id": "6tUKVILThC05"
      }
    },
    {
      "cell_type": "code",
      "execution_count": 1,
      "metadata": {
        "id": "B4zgi0JggXos"
      },
      "outputs": [],
      "source": [
        "# installing opendatasets library to directly get the dataset from kaggle\n",
        "\n",
        "!pip install opendatasets  --upgrade --quiet"
      ]
    },
    {
      "cell_type": "markdown",
      "source": [
        "### Data Download"
      ],
      "metadata": {
        "id": "eG1rf_JAhTm3"
      }
    },
    {
      "cell_type": "code",
      "source": [
        "import opendatasets as od\n",
        "dataset_url = 'https://www.kaggle.com/datasets/sobhanmoosavi/us-accidents'\n",
        "od.download(dataset_url)"
      ],
      "metadata": {
        "colab": {
          "base_uri": "https://localhost:8080/"
        },
        "id": "pd-cFJTOhZn3",
        "outputId": "aaca2d12-bfe8-4b7f-a6bd-231b1db9f22b"
      },
      "execution_count": 2,
      "outputs": [
        {
          "output_type": "stream",
          "name": "stdout",
          "text": [
            "Please provide your Kaggle credentials to download this dataset. Learn more: http://bit.ly/kaggle-creds\n",
            "Your Kaggle username: saraswathi2000\n",
            "Your Kaggle Key: ··········\n",
            "Downloading us-accidents.zip to ./us-accidents\n"
          ]
        },
        {
          "output_type": "stream",
          "name": "stderr",
          "text": [
            "100%|██████████| 269M/269M [00:00<00:00, 338MB/s]\n"
          ]
        },
        {
          "output_type": "stream",
          "name": "stdout",
          "text": [
            "\n"
          ]
        }
      ]
    },
    {
      "cell_type": "code",
      "source": [
        "data_fileName = '/content/us-accidents/US_Accidents_Dec21_updated.csv'"
      ],
      "metadata": {
        "id": "KwdM9NVvhahW"
      },
      "execution_count": 3,
      "outputs": []
    },
    {
      "cell_type": "markdown",
      "source": [
        "### Data preparation and Cleaning\n",
        "\n",
        "- Loading the file using pandas\n",
        "- understanding the data in the file\n",
        "- fixing missing or incorrect values"
      ],
      "metadata": {
        "id": "C9cBjVfjha1-"
      }
    },
    {
      "cell_type": "code",
      "source": [
        "# importing pandas Library\n",
        "\n",
        "import pandas as pd\n"
      ],
      "metadata": {
        "id": "COd3h61Lm0sH"
      },
      "execution_count": 4,
      "outputs": []
    },
    {
      "cell_type": "code",
      "source": [
        "df = pd.read_csv(data_fileName)"
      ],
      "metadata": {
        "id": "C9vxy0oYhfQe"
      },
      "execution_count": 5,
      "outputs": []
    },
    {
      "cell_type": "code",
      "source": [
        "df"
      ],
      "metadata": {
        "colab": {
          "base_uri": "https://localhost:8080/",
          "height": 939
        },
        "id": "8WN0PgIihfgu",
        "outputId": "eea730da-fb08-4d48-ce79-94f5457fc459"
      },
      "execution_count": 6,
      "outputs": [
        {
          "output_type": "execute_result",
          "data": {
            "text/plain": [
              "                ID  Severity           Start_Time             End_Time  \\\n",
              "0              A-1         3  2016-02-08 00:37:08  2016-02-08 06:37:08   \n",
              "1              A-2         2  2016-02-08 05:56:20  2016-02-08 11:56:20   \n",
              "2              A-3         2  2016-02-08 06:15:39  2016-02-08 12:15:39   \n",
              "3              A-4         2  2016-02-08 06:51:45  2016-02-08 12:51:45   \n",
              "4              A-5         3  2016-02-08 07:53:43  2016-02-08 13:53:43   \n",
              "...            ...       ...                  ...                  ...   \n",
              "2845337  A-2845338         2  2019-08-23 18:03:25  2019-08-23 18:32:01   \n",
              "2845338  A-2845339         2  2019-08-23 19:11:30  2019-08-23 19:38:23   \n",
              "2845339  A-2845340         2  2019-08-23 19:00:21  2019-08-23 19:28:49   \n",
              "2845340  A-2845341         2  2019-08-23 19:00:21  2019-08-23 19:29:42   \n",
              "2845341  A-2845342         2  2019-08-23 18:52:06  2019-08-23 19:21:31   \n",
              "\n",
              "         Start_Lat   Start_Lng    End_Lat     End_Lng  Distance(mi)  \\\n",
              "0        40.108910  -83.092860  40.112060  -83.031870         3.230   \n",
              "1        39.865420  -84.062800  39.865010  -84.048730         0.747   \n",
              "2        39.102660  -84.524680  39.102090  -84.523960         0.055   \n",
              "3        41.062130  -81.537840  41.062170  -81.535470         0.123   \n",
              "4        39.172393  -84.492792  39.170476  -84.501798         0.500   \n",
              "...            ...         ...        ...         ...           ...   \n",
              "2845337  34.002480 -117.379360  33.998880 -117.370940         0.543   \n",
              "2845338  32.766960 -117.148060  32.765550 -117.153630         0.338   \n",
              "2845339  33.775450 -117.847790  33.777400 -117.857270         0.561   \n",
              "2845340  33.992460 -118.403020  33.983110 -118.395650         0.772   \n",
              "2845341  34.133930 -117.230920  34.137360 -117.239340         0.537   \n",
              "\n",
              "                                               Description  ...  Roundabout  \\\n",
              "0        Between Sawmill Rd/Exit 20 and OH-315/Olentang...  ...       False   \n",
              "1                       At OH-4/OH-235/Exit 41 - Accident.  ...       False   \n",
              "2                         At I-71/US-50/Exit 1 - Accident.  ...       False   \n",
              "3                          At Dart Ave/Exit 21 - Accident.  ...       False   \n",
              "4                       At Mitchell Ave/Exit 6 - Accident.  ...       False   \n",
              "...                                                    ...  ...         ...   \n",
              "2845337                           At Market St - Accident.  ...       False   \n",
              "2845338    At Camino Del Rio/Mission Center Rd - Accident.  ...       False   \n",
              "2845339  At Glassell St/Grand Ave - Accident. in the ri...  ...       False   \n",
              "2845340     At CA-90/Marina Fwy/Jefferson Blvd - Accident.  ...       False   \n",
              "2845341              At Highland Ave/Arden Ave - Accident.  ...       False   \n",
              "\n",
              "        Station   Stop Traffic_Calming Traffic_Signal Turning_Loop  \\\n",
              "0         False  False           False          False        False   \n",
              "1         False  False           False          False        False   \n",
              "2         False  False           False          False        False   \n",
              "3         False  False           False          False        False   \n",
              "4         False  False           False          False        False   \n",
              "...         ...    ...             ...            ...          ...   \n",
              "2845337   False  False           False          False        False   \n",
              "2845338   False  False           False          False        False   \n",
              "2845339   False  False           False          False        False   \n",
              "2845340   False  False           False          False        False   \n",
              "2845341   False  False           False          False        False   \n",
              "\n",
              "        Sunrise_Sunset Civil_Twilight Nautical_Twilight Astronomical_Twilight  \n",
              "0                Night          Night             Night                 Night  \n",
              "1                Night          Night             Night                 Night  \n",
              "2                Night          Night             Night                   Day  \n",
              "3                Night          Night               Day                   Day  \n",
              "4                  Day            Day               Day                   Day  \n",
              "...                ...            ...               ...                   ...  \n",
              "2845337            Day            Day               Day                   Day  \n",
              "2845338            Day            Day               Day                   Day  \n",
              "2845339            Day            Day               Day                   Day  \n",
              "2845340            Day            Day               Day                   Day  \n",
              "2845341            Day            Day               Day                   Day  \n",
              "\n",
              "[2845342 rows x 47 columns]"
            ],
            "text/html": [
              "\n",
              "  <div id=\"df-c3604e81-e064-4f63-8783-45e048d59e4a\">\n",
              "    <div class=\"colab-df-container\">\n",
              "      <div>\n",
              "<style scoped>\n",
              "    .dataframe tbody tr th:only-of-type {\n",
              "        vertical-align: middle;\n",
              "    }\n",
              "\n",
              "    .dataframe tbody tr th {\n",
              "        vertical-align: top;\n",
              "    }\n",
              "\n",
              "    .dataframe thead th {\n",
              "        text-align: right;\n",
              "    }\n",
              "</style>\n",
              "<table border=\"1\" class=\"dataframe\">\n",
              "  <thead>\n",
              "    <tr style=\"text-align: right;\">\n",
              "      <th></th>\n",
              "      <th>ID</th>\n",
              "      <th>Severity</th>\n",
              "      <th>Start_Time</th>\n",
              "      <th>End_Time</th>\n",
              "      <th>Start_Lat</th>\n",
              "      <th>Start_Lng</th>\n",
              "      <th>End_Lat</th>\n",
              "      <th>End_Lng</th>\n",
              "      <th>Distance(mi)</th>\n",
              "      <th>Description</th>\n",
              "      <th>...</th>\n",
              "      <th>Roundabout</th>\n",
              "      <th>Station</th>\n",
              "      <th>Stop</th>\n",
              "      <th>Traffic_Calming</th>\n",
              "      <th>Traffic_Signal</th>\n",
              "      <th>Turning_Loop</th>\n",
              "      <th>Sunrise_Sunset</th>\n",
              "      <th>Civil_Twilight</th>\n",
              "      <th>Nautical_Twilight</th>\n",
              "      <th>Astronomical_Twilight</th>\n",
              "    </tr>\n",
              "  </thead>\n",
              "  <tbody>\n",
              "    <tr>\n",
              "      <th>0</th>\n",
              "      <td>A-1</td>\n",
              "      <td>3</td>\n",
              "      <td>2016-02-08 00:37:08</td>\n",
              "      <td>2016-02-08 06:37:08</td>\n",
              "      <td>40.108910</td>\n",
              "      <td>-83.092860</td>\n",
              "      <td>40.112060</td>\n",
              "      <td>-83.031870</td>\n",
              "      <td>3.230</td>\n",
              "      <td>Between Sawmill Rd/Exit 20 and OH-315/Olentang...</td>\n",
              "      <td>...</td>\n",
              "      <td>False</td>\n",
              "      <td>False</td>\n",
              "      <td>False</td>\n",
              "      <td>False</td>\n",
              "      <td>False</td>\n",
              "      <td>False</td>\n",
              "      <td>Night</td>\n",
              "      <td>Night</td>\n",
              "      <td>Night</td>\n",
              "      <td>Night</td>\n",
              "    </tr>\n",
              "    <tr>\n",
              "      <th>1</th>\n",
              "      <td>A-2</td>\n",
              "      <td>2</td>\n",
              "      <td>2016-02-08 05:56:20</td>\n",
              "      <td>2016-02-08 11:56:20</td>\n",
              "      <td>39.865420</td>\n",
              "      <td>-84.062800</td>\n",
              "      <td>39.865010</td>\n",
              "      <td>-84.048730</td>\n",
              "      <td>0.747</td>\n",
              "      <td>At OH-4/OH-235/Exit 41 - Accident.</td>\n",
              "      <td>...</td>\n",
              "      <td>False</td>\n",
              "      <td>False</td>\n",
              "      <td>False</td>\n",
              "      <td>False</td>\n",
              "      <td>False</td>\n",
              "      <td>False</td>\n",
              "      <td>Night</td>\n",
              "      <td>Night</td>\n",
              "      <td>Night</td>\n",
              "      <td>Night</td>\n",
              "    </tr>\n",
              "    <tr>\n",
              "      <th>2</th>\n",
              "      <td>A-3</td>\n",
              "      <td>2</td>\n",
              "      <td>2016-02-08 06:15:39</td>\n",
              "      <td>2016-02-08 12:15:39</td>\n",
              "      <td>39.102660</td>\n",
              "      <td>-84.524680</td>\n",
              "      <td>39.102090</td>\n",
              "      <td>-84.523960</td>\n",
              "      <td>0.055</td>\n",
              "      <td>At I-71/US-50/Exit 1 - Accident.</td>\n",
              "      <td>...</td>\n",
              "      <td>False</td>\n",
              "      <td>False</td>\n",
              "      <td>False</td>\n",
              "      <td>False</td>\n",
              "      <td>False</td>\n",
              "      <td>False</td>\n",
              "      <td>Night</td>\n",
              "      <td>Night</td>\n",
              "      <td>Night</td>\n",
              "      <td>Day</td>\n",
              "    </tr>\n",
              "    <tr>\n",
              "      <th>3</th>\n",
              "      <td>A-4</td>\n",
              "      <td>2</td>\n",
              "      <td>2016-02-08 06:51:45</td>\n",
              "      <td>2016-02-08 12:51:45</td>\n",
              "      <td>41.062130</td>\n",
              "      <td>-81.537840</td>\n",
              "      <td>41.062170</td>\n",
              "      <td>-81.535470</td>\n",
              "      <td>0.123</td>\n",
              "      <td>At Dart Ave/Exit 21 - Accident.</td>\n",
              "      <td>...</td>\n",
              "      <td>False</td>\n",
              "      <td>False</td>\n",
              "      <td>False</td>\n",
              "      <td>False</td>\n",
              "      <td>False</td>\n",
              "      <td>False</td>\n",
              "      <td>Night</td>\n",
              "      <td>Night</td>\n",
              "      <td>Day</td>\n",
              "      <td>Day</td>\n",
              "    </tr>\n",
              "    <tr>\n",
              "      <th>4</th>\n",
              "      <td>A-5</td>\n",
              "      <td>3</td>\n",
              "      <td>2016-02-08 07:53:43</td>\n",
              "      <td>2016-02-08 13:53:43</td>\n",
              "      <td>39.172393</td>\n",
              "      <td>-84.492792</td>\n",
              "      <td>39.170476</td>\n",
              "      <td>-84.501798</td>\n",
              "      <td>0.500</td>\n",
              "      <td>At Mitchell Ave/Exit 6 - Accident.</td>\n",
              "      <td>...</td>\n",
              "      <td>False</td>\n",
              "      <td>False</td>\n",
              "      <td>False</td>\n",
              "      <td>False</td>\n",
              "      <td>False</td>\n",
              "      <td>False</td>\n",
              "      <td>Day</td>\n",
              "      <td>Day</td>\n",
              "      <td>Day</td>\n",
              "      <td>Day</td>\n",
              "    </tr>\n",
              "    <tr>\n",
              "      <th>...</th>\n",
              "      <td>...</td>\n",
              "      <td>...</td>\n",
              "      <td>...</td>\n",
              "      <td>...</td>\n",
              "      <td>...</td>\n",
              "      <td>...</td>\n",
              "      <td>...</td>\n",
              "      <td>...</td>\n",
              "      <td>...</td>\n",
              "      <td>...</td>\n",
              "      <td>...</td>\n",
              "      <td>...</td>\n",
              "      <td>...</td>\n",
              "      <td>...</td>\n",
              "      <td>...</td>\n",
              "      <td>...</td>\n",
              "      <td>...</td>\n",
              "      <td>...</td>\n",
              "      <td>...</td>\n",
              "      <td>...</td>\n",
              "      <td>...</td>\n",
              "    </tr>\n",
              "    <tr>\n",
              "      <th>2845337</th>\n",
              "      <td>A-2845338</td>\n",
              "      <td>2</td>\n",
              "      <td>2019-08-23 18:03:25</td>\n",
              "      <td>2019-08-23 18:32:01</td>\n",
              "      <td>34.002480</td>\n",
              "      <td>-117.379360</td>\n",
              "      <td>33.998880</td>\n",
              "      <td>-117.370940</td>\n",
              "      <td>0.543</td>\n",
              "      <td>At Market St - Accident.</td>\n",
              "      <td>...</td>\n",
              "      <td>False</td>\n",
              "      <td>False</td>\n",
              "      <td>False</td>\n",
              "      <td>False</td>\n",
              "      <td>False</td>\n",
              "      <td>False</td>\n",
              "      <td>Day</td>\n",
              "      <td>Day</td>\n",
              "      <td>Day</td>\n",
              "      <td>Day</td>\n",
              "    </tr>\n",
              "    <tr>\n",
              "      <th>2845338</th>\n",
              "      <td>A-2845339</td>\n",
              "      <td>2</td>\n",
              "      <td>2019-08-23 19:11:30</td>\n",
              "      <td>2019-08-23 19:38:23</td>\n",
              "      <td>32.766960</td>\n",
              "      <td>-117.148060</td>\n",
              "      <td>32.765550</td>\n",
              "      <td>-117.153630</td>\n",
              "      <td>0.338</td>\n",
              "      <td>At Camino Del Rio/Mission Center Rd - Accident.</td>\n",
              "      <td>...</td>\n",
              "      <td>False</td>\n",
              "      <td>False</td>\n",
              "      <td>False</td>\n",
              "      <td>False</td>\n",
              "      <td>False</td>\n",
              "      <td>False</td>\n",
              "      <td>Day</td>\n",
              "      <td>Day</td>\n",
              "      <td>Day</td>\n",
              "      <td>Day</td>\n",
              "    </tr>\n",
              "    <tr>\n",
              "      <th>2845339</th>\n",
              "      <td>A-2845340</td>\n",
              "      <td>2</td>\n",
              "      <td>2019-08-23 19:00:21</td>\n",
              "      <td>2019-08-23 19:28:49</td>\n",
              "      <td>33.775450</td>\n",
              "      <td>-117.847790</td>\n",
              "      <td>33.777400</td>\n",
              "      <td>-117.857270</td>\n",
              "      <td>0.561</td>\n",
              "      <td>At Glassell St/Grand Ave - Accident. in the ri...</td>\n",
              "      <td>...</td>\n",
              "      <td>False</td>\n",
              "      <td>False</td>\n",
              "      <td>False</td>\n",
              "      <td>False</td>\n",
              "      <td>False</td>\n",
              "      <td>False</td>\n",
              "      <td>Day</td>\n",
              "      <td>Day</td>\n",
              "      <td>Day</td>\n",
              "      <td>Day</td>\n",
              "    </tr>\n",
              "    <tr>\n",
              "      <th>2845340</th>\n",
              "      <td>A-2845341</td>\n",
              "      <td>2</td>\n",
              "      <td>2019-08-23 19:00:21</td>\n",
              "      <td>2019-08-23 19:29:42</td>\n",
              "      <td>33.992460</td>\n",
              "      <td>-118.403020</td>\n",
              "      <td>33.983110</td>\n",
              "      <td>-118.395650</td>\n",
              "      <td>0.772</td>\n",
              "      <td>At CA-90/Marina Fwy/Jefferson Blvd - Accident.</td>\n",
              "      <td>...</td>\n",
              "      <td>False</td>\n",
              "      <td>False</td>\n",
              "      <td>False</td>\n",
              "      <td>False</td>\n",
              "      <td>False</td>\n",
              "      <td>False</td>\n",
              "      <td>Day</td>\n",
              "      <td>Day</td>\n",
              "      <td>Day</td>\n",
              "      <td>Day</td>\n",
              "    </tr>\n",
              "    <tr>\n",
              "      <th>2845341</th>\n",
              "      <td>A-2845342</td>\n",
              "      <td>2</td>\n",
              "      <td>2019-08-23 18:52:06</td>\n",
              "      <td>2019-08-23 19:21:31</td>\n",
              "      <td>34.133930</td>\n",
              "      <td>-117.230920</td>\n",
              "      <td>34.137360</td>\n",
              "      <td>-117.239340</td>\n",
              "      <td>0.537</td>\n",
              "      <td>At Highland Ave/Arden Ave - Accident.</td>\n",
              "      <td>...</td>\n",
              "      <td>False</td>\n",
              "      <td>False</td>\n",
              "      <td>False</td>\n",
              "      <td>False</td>\n",
              "      <td>False</td>\n",
              "      <td>False</td>\n",
              "      <td>Day</td>\n",
              "      <td>Day</td>\n",
              "      <td>Day</td>\n",
              "      <td>Day</td>\n",
              "    </tr>\n",
              "  </tbody>\n",
              "</table>\n",
              "<p>2845342 rows × 47 columns</p>\n",
              "</div>\n",
              "      <button class=\"colab-df-convert\" onclick=\"convertToInteractive('df-c3604e81-e064-4f63-8783-45e048d59e4a')\"\n",
              "              title=\"Convert this dataframe to an interactive table.\"\n",
              "              style=\"display:none;\">\n",
              "        \n",
              "  <svg xmlns=\"http://www.w3.org/2000/svg\" height=\"24px\"viewBox=\"0 0 24 24\"\n",
              "       width=\"24px\">\n",
              "    <path d=\"M0 0h24v24H0V0z\" fill=\"none\"/>\n",
              "    <path d=\"M18.56 5.44l.94 2.06.94-2.06 2.06-.94-2.06-.94-.94-2.06-.94 2.06-2.06.94zm-11 1L8.5 8.5l.94-2.06 2.06-.94-2.06-.94L8.5 2.5l-.94 2.06-2.06.94zm10 10l.94 2.06.94-2.06 2.06-.94-2.06-.94-.94-2.06-.94 2.06-2.06.94z\"/><path d=\"M17.41 7.96l-1.37-1.37c-.4-.4-.92-.59-1.43-.59-.52 0-1.04.2-1.43.59L10.3 9.45l-7.72 7.72c-.78.78-.78 2.05 0 2.83L4 21.41c.39.39.9.59 1.41.59.51 0 1.02-.2 1.41-.59l7.78-7.78 2.81-2.81c.8-.78.8-2.07 0-2.86zM5.41 20L4 18.59l7.72-7.72 1.47 1.35L5.41 20z\"/>\n",
              "  </svg>\n",
              "      </button>\n",
              "      \n",
              "  <style>\n",
              "    .colab-df-container {\n",
              "      display:flex;\n",
              "      flex-wrap:wrap;\n",
              "      gap: 12px;\n",
              "    }\n",
              "\n",
              "    .colab-df-convert {\n",
              "      background-color: #E8F0FE;\n",
              "      border: none;\n",
              "      border-radius: 50%;\n",
              "      cursor: pointer;\n",
              "      display: none;\n",
              "      fill: #1967D2;\n",
              "      height: 32px;\n",
              "      padding: 0 0 0 0;\n",
              "      width: 32px;\n",
              "    }\n",
              "\n",
              "    .colab-df-convert:hover {\n",
              "      background-color: #E2EBFA;\n",
              "      box-shadow: 0px 1px 2px rgba(60, 64, 67, 0.3), 0px 1px 3px 1px rgba(60, 64, 67, 0.15);\n",
              "      fill: #174EA6;\n",
              "    }\n",
              "\n",
              "    [theme=dark] .colab-df-convert {\n",
              "      background-color: #3B4455;\n",
              "      fill: #D2E3FC;\n",
              "    }\n",
              "\n",
              "    [theme=dark] .colab-df-convert:hover {\n",
              "      background-color: #434B5C;\n",
              "      box-shadow: 0px 1px 3px 1px rgba(0, 0, 0, 0.15);\n",
              "      filter: drop-shadow(0px 1px 2px rgba(0, 0, 0, 0.3));\n",
              "      fill: #FFFFFF;\n",
              "    }\n",
              "  </style>\n",
              "\n",
              "      <script>\n",
              "        const buttonEl =\n",
              "          document.querySelector('#df-c3604e81-e064-4f63-8783-45e048d59e4a button.colab-df-convert');\n",
              "        buttonEl.style.display =\n",
              "          google.colab.kernel.accessAllowed ? 'block' : 'none';\n",
              "\n",
              "        async function convertToInteractive(key) {\n",
              "          const element = document.querySelector('#df-c3604e81-e064-4f63-8783-45e048d59e4a');\n",
              "          const dataTable =\n",
              "            await google.colab.kernel.invokeFunction('convertToInteractive',\n",
              "                                                     [key], {});\n",
              "          if (!dataTable) return;\n",
              "\n",
              "          const docLinkHtml = 'Like what you see? Visit the ' +\n",
              "            '<a target=\"_blank\" href=https://colab.research.google.com/notebooks/data_table.ipynb>data table notebook</a>'\n",
              "            + ' to learn more about interactive tables.';\n",
              "          element.innerHTML = '';\n",
              "          dataTable['output_type'] = 'display_data';\n",
              "          await google.colab.output.renderOutput(dataTable, element);\n",
              "          const docLink = document.createElement('div');\n",
              "          docLink.innerHTML = docLinkHtml;\n",
              "          element.appendChild(docLink);\n",
              "        }\n",
              "      </script>\n",
              "    </div>\n",
              "  </div>\n",
              "  "
            ]
          },
          "metadata": {},
          "execution_count": 6
        }
      ]
    },
    {
      "cell_type": "code",
      "source": [
        "df.head()"
      ],
      "metadata": {
        "colab": {
          "base_uri": "https://localhost:8080/",
          "height": 508
        },
        "id": "5MFqIQDGEp-5",
        "outputId": "b40f5b40-333e-4f3d-8eb4-6791ebd65b7a"
      },
      "execution_count": 7,
      "outputs": [
        {
          "output_type": "execute_result",
          "data": {
            "text/plain": [
              "    ID  Severity           Start_Time             End_Time  Start_Lat  \\\n",
              "0  A-1         3  2016-02-08 00:37:08  2016-02-08 06:37:08  40.108910   \n",
              "1  A-2         2  2016-02-08 05:56:20  2016-02-08 11:56:20  39.865420   \n",
              "2  A-3         2  2016-02-08 06:15:39  2016-02-08 12:15:39  39.102660   \n",
              "3  A-4         2  2016-02-08 06:51:45  2016-02-08 12:51:45  41.062130   \n",
              "4  A-5         3  2016-02-08 07:53:43  2016-02-08 13:53:43  39.172393   \n",
              "\n",
              "   Start_Lng    End_Lat    End_Lng  Distance(mi)  \\\n",
              "0 -83.092860  40.112060 -83.031870         3.230   \n",
              "1 -84.062800  39.865010 -84.048730         0.747   \n",
              "2 -84.524680  39.102090 -84.523960         0.055   \n",
              "3 -81.537840  41.062170 -81.535470         0.123   \n",
              "4 -84.492792  39.170476 -84.501798         0.500   \n",
              "\n",
              "                                         Description  ...  Roundabout Station  \\\n",
              "0  Between Sawmill Rd/Exit 20 and OH-315/Olentang...  ...       False   False   \n",
              "1                 At OH-4/OH-235/Exit 41 - Accident.  ...       False   False   \n",
              "2                   At I-71/US-50/Exit 1 - Accident.  ...       False   False   \n",
              "3                    At Dart Ave/Exit 21 - Accident.  ...       False   False   \n",
              "4                 At Mitchell Ave/Exit 6 - Accident.  ...       False   False   \n",
              "\n",
              "    Stop Traffic_Calming Traffic_Signal Turning_Loop Sunrise_Sunset  \\\n",
              "0  False           False          False        False          Night   \n",
              "1  False           False          False        False          Night   \n",
              "2  False           False          False        False          Night   \n",
              "3  False           False          False        False          Night   \n",
              "4  False           False          False        False            Day   \n",
              "\n",
              "  Civil_Twilight Nautical_Twilight Astronomical_Twilight  \n",
              "0          Night             Night                 Night  \n",
              "1          Night             Night                 Night  \n",
              "2          Night             Night                   Day  \n",
              "3          Night               Day                   Day  \n",
              "4            Day               Day                   Day  \n",
              "\n",
              "[5 rows x 47 columns]"
            ],
            "text/html": [
              "\n",
              "  <div id=\"df-c7f91673-56cf-41b8-8353-f9d7a59cdf92\">\n",
              "    <div class=\"colab-df-container\">\n",
              "      <div>\n",
              "<style scoped>\n",
              "    .dataframe tbody tr th:only-of-type {\n",
              "        vertical-align: middle;\n",
              "    }\n",
              "\n",
              "    .dataframe tbody tr th {\n",
              "        vertical-align: top;\n",
              "    }\n",
              "\n",
              "    .dataframe thead th {\n",
              "        text-align: right;\n",
              "    }\n",
              "</style>\n",
              "<table border=\"1\" class=\"dataframe\">\n",
              "  <thead>\n",
              "    <tr style=\"text-align: right;\">\n",
              "      <th></th>\n",
              "      <th>ID</th>\n",
              "      <th>Severity</th>\n",
              "      <th>Start_Time</th>\n",
              "      <th>End_Time</th>\n",
              "      <th>Start_Lat</th>\n",
              "      <th>Start_Lng</th>\n",
              "      <th>End_Lat</th>\n",
              "      <th>End_Lng</th>\n",
              "      <th>Distance(mi)</th>\n",
              "      <th>Description</th>\n",
              "      <th>...</th>\n",
              "      <th>Roundabout</th>\n",
              "      <th>Station</th>\n",
              "      <th>Stop</th>\n",
              "      <th>Traffic_Calming</th>\n",
              "      <th>Traffic_Signal</th>\n",
              "      <th>Turning_Loop</th>\n",
              "      <th>Sunrise_Sunset</th>\n",
              "      <th>Civil_Twilight</th>\n",
              "      <th>Nautical_Twilight</th>\n",
              "      <th>Astronomical_Twilight</th>\n",
              "    </tr>\n",
              "  </thead>\n",
              "  <tbody>\n",
              "    <tr>\n",
              "      <th>0</th>\n",
              "      <td>A-1</td>\n",
              "      <td>3</td>\n",
              "      <td>2016-02-08 00:37:08</td>\n",
              "      <td>2016-02-08 06:37:08</td>\n",
              "      <td>40.108910</td>\n",
              "      <td>-83.092860</td>\n",
              "      <td>40.112060</td>\n",
              "      <td>-83.031870</td>\n",
              "      <td>3.230</td>\n",
              "      <td>Between Sawmill Rd/Exit 20 and OH-315/Olentang...</td>\n",
              "      <td>...</td>\n",
              "      <td>False</td>\n",
              "      <td>False</td>\n",
              "      <td>False</td>\n",
              "      <td>False</td>\n",
              "      <td>False</td>\n",
              "      <td>False</td>\n",
              "      <td>Night</td>\n",
              "      <td>Night</td>\n",
              "      <td>Night</td>\n",
              "      <td>Night</td>\n",
              "    </tr>\n",
              "    <tr>\n",
              "      <th>1</th>\n",
              "      <td>A-2</td>\n",
              "      <td>2</td>\n",
              "      <td>2016-02-08 05:56:20</td>\n",
              "      <td>2016-02-08 11:56:20</td>\n",
              "      <td>39.865420</td>\n",
              "      <td>-84.062800</td>\n",
              "      <td>39.865010</td>\n",
              "      <td>-84.048730</td>\n",
              "      <td>0.747</td>\n",
              "      <td>At OH-4/OH-235/Exit 41 - Accident.</td>\n",
              "      <td>...</td>\n",
              "      <td>False</td>\n",
              "      <td>False</td>\n",
              "      <td>False</td>\n",
              "      <td>False</td>\n",
              "      <td>False</td>\n",
              "      <td>False</td>\n",
              "      <td>Night</td>\n",
              "      <td>Night</td>\n",
              "      <td>Night</td>\n",
              "      <td>Night</td>\n",
              "    </tr>\n",
              "    <tr>\n",
              "      <th>2</th>\n",
              "      <td>A-3</td>\n",
              "      <td>2</td>\n",
              "      <td>2016-02-08 06:15:39</td>\n",
              "      <td>2016-02-08 12:15:39</td>\n",
              "      <td>39.102660</td>\n",
              "      <td>-84.524680</td>\n",
              "      <td>39.102090</td>\n",
              "      <td>-84.523960</td>\n",
              "      <td>0.055</td>\n",
              "      <td>At I-71/US-50/Exit 1 - Accident.</td>\n",
              "      <td>...</td>\n",
              "      <td>False</td>\n",
              "      <td>False</td>\n",
              "      <td>False</td>\n",
              "      <td>False</td>\n",
              "      <td>False</td>\n",
              "      <td>False</td>\n",
              "      <td>Night</td>\n",
              "      <td>Night</td>\n",
              "      <td>Night</td>\n",
              "      <td>Day</td>\n",
              "    </tr>\n",
              "    <tr>\n",
              "      <th>3</th>\n",
              "      <td>A-4</td>\n",
              "      <td>2</td>\n",
              "      <td>2016-02-08 06:51:45</td>\n",
              "      <td>2016-02-08 12:51:45</td>\n",
              "      <td>41.062130</td>\n",
              "      <td>-81.537840</td>\n",
              "      <td>41.062170</td>\n",
              "      <td>-81.535470</td>\n",
              "      <td>0.123</td>\n",
              "      <td>At Dart Ave/Exit 21 - Accident.</td>\n",
              "      <td>...</td>\n",
              "      <td>False</td>\n",
              "      <td>False</td>\n",
              "      <td>False</td>\n",
              "      <td>False</td>\n",
              "      <td>False</td>\n",
              "      <td>False</td>\n",
              "      <td>Night</td>\n",
              "      <td>Night</td>\n",
              "      <td>Day</td>\n",
              "      <td>Day</td>\n",
              "    </tr>\n",
              "    <tr>\n",
              "      <th>4</th>\n",
              "      <td>A-5</td>\n",
              "      <td>3</td>\n",
              "      <td>2016-02-08 07:53:43</td>\n",
              "      <td>2016-02-08 13:53:43</td>\n",
              "      <td>39.172393</td>\n",
              "      <td>-84.492792</td>\n",
              "      <td>39.170476</td>\n",
              "      <td>-84.501798</td>\n",
              "      <td>0.500</td>\n",
              "      <td>At Mitchell Ave/Exit 6 - Accident.</td>\n",
              "      <td>...</td>\n",
              "      <td>False</td>\n",
              "      <td>False</td>\n",
              "      <td>False</td>\n",
              "      <td>False</td>\n",
              "      <td>False</td>\n",
              "      <td>False</td>\n",
              "      <td>Day</td>\n",
              "      <td>Day</td>\n",
              "      <td>Day</td>\n",
              "      <td>Day</td>\n",
              "    </tr>\n",
              "  </tbody>\n",
              "</table>\n",
              "<p>5 rows × 47 columns</p>\n",
              "</div>\n",
              "      <button class=\"colab-df-convert\" onclick=\"convertToInteractive('df-c7f91673-56cf-41b8-8353-f9d7a59cdf92')\"\n",
              "              title=\"Convert this dataframe to an interactive table.\"\n",
              "              style=\"display:none;\">\n",
              "        \n",
              "  <svg xmlns=\"http://www.w3.org/2000/svg\" height=\"24px\"viewBox=\"0 0 24 24\"\n",
              "       width=\"24px\">\n",
              "    <path d=\"M0 0h24v24H0V0z\" fill=\"none\"/>\n",
              "    <path d=\"M18.56 5.44l.94 2.06.94-2.06 2.06-.94-2.06-.94-.94-2.06-.94 2.06-2.06.94zm-11 1L8.5 8.5l.94-2.06 2.06-.94-2.06-.94L8.5 2.5l-.94 2.06-2.06.94zm10 10l.94 2.06.94-2.06 2.06-.94-2.06-.94-.94-2.06-.94 2.06-2.06.94z\"/><path d=\"M17.41 7.96l-1.37-1.37c-.4-.4-.92-.59-1.43-.59-.52 0-1.04.2-1.43.59L10.3 9.45l-7.72 7.72c-.78.78-.78 2.05 0 2.83L4 21.41c.39.39.9.59 1.41.59.51 0 1.02-.2 1.41-.59l7.78-7.78 2.81-2.81c.8-.78.8-2.07 0-2.86zM5.41 20L4 18.59l7.72-7.72 1.47 1.35L5.41 20z\"/>\n",
              "  </svg>\n",
              "      </button>\n",
              "      \n",
              "  <style>\n",
              "    .colab-df-container {\n",
              "      display:flex;\n",
              "      flex-wrap:wrap;\n",
              "      gap: 12px;\n",
              "    }\n",
              "\n",
              "    .colab-df-convert {\n",
              "      background-color: #E8F0FE;\n",
              "      border: none;\n",
              "      border-radius: 50%;\n",
              "      cursor: pointer;\n",
              "      display: none;\n",
              "      fill: #1967D2;\n",
              "      height: 32px;\n",
              "      padding: 0 0 0 0;\n",
              "      width: 32px;\n",
              "    }\n",
              "\n",
              "    .colab-df-convert:hover {\n",
              "      background-color: #E2EBFA;\n",
              "      box-shadow: 0px 1px 2px rgba(60, 64, 67, 0.3), 0px 1px 3px 1px rgba(60, 64, 67, 0.15);\n",
              "      fill: #174EA6;\n",
              "    }\n",
              "\n",
              "    [theme=dark] .colab-df-convert {\n",
              "      background-color: #3B4455;\n",
              "      fill: #D2E3FC;\n",
              "    }\n",
              "\n",
              "    [theme=dark] .colab-df-convert:hover {\n",
              "      background-color: #434B5C;\n",
              "      box-shadow: 0px 1px 3px 1px rgba(0, 0, 0, 0.15);\n",
              "      filter: drop-shadow(0px 1px 2px rgba(0, 0, 0, 0.3));\n",
              "      fill: #FFFFFF;\n",
              "    }\n",
              "  </style>\n",
              "\n",
              "      <script>\n",
              "        const buttonEl =\n",
              "          document.querySelector('#df-c7f91673-56cf-41b8-8353-f9d7a59cdf92 button.colab-df-convert');\n",
              "        buttonEl.style.display =\n",
              "          google.colab.kernel.accessAllowed ? 'block' : 'none';\n",
              "\n",
              "        async function convertToInteractive(key) {\n",
              "          const element = document.querySelector('#df-c7f91673-56cf-41b8-8353-f9d7a59cdf92');\n",
              "          const dataTable =\n",
              "            await google.colab.kernel.invokeFunction('convertToInteractive',\n",
              "                                                     [key], {});\n",
              "          if (!dataTable) return;\n",
              "\n",
              "          const docLinkHtml = 'Like what you see? Visit the ' +\n",
              "            '<a target=\"_blank\" href=https://colab.research.google.com/notebooks/data_table.ipynb>data table notebook</a>'\n",
              "            + ' to learn more about interactive tables.';\n",
              "          element.innerHTML = '';\n",
              "          dataTable['output_type'] = 'display_data';\n",
              "          await google.colab.output.renderOutput(dataTable, element);\n",
              "          const docLink = document.createElement('div');\n",
              "          docLink.innerHTML = docLinkHtml;\n",
              "          element.appendChild(docLink);\n",
              "        }\n",
              "      </script>\n",
              "    </div>\n",
              "  </div>\n",
              "  "
            ]
          },
          "metadata": {},
          "execution_count": 7
        }
      ]
    },
    {
      "cell_type": "code",
      "source": [
        "# finding the number of columns in the dataset \n",
        "\n",
        "len(df.columns)"
      ],
      "metadata": {
        "colab": {
          "base_uri": "https://localhost:8080/"
        },
        "id": "btpuzoT4nOb8",
        "outputId": "90876947-dfde-4e18-c183-91490eb6dc2d"
      },
      "execution_count": 8,
      "outputs": [
        {
          "output_type": "execute_result",
          "data": {
            "text/plain": [
              "47"
            ]
          },
          "metadata": {},
          "execution_count": 8
        }
      ]
    },
    {
      "cell_type": "code",
      "source": [
        "# getting more information about the columns and its datatypes\n",
        "\n",
        "df.info()"
      ],
      "metadata": {
        "colab": {
          "base_uri": "https://localhost:8080/"
        },
        "id": "Y3FlUIDmnOYc",
        "outputId": "7bc2e886-89fd-42f3-c0a4-33a5f6a8a1fa"
      },
      "execution_count": 9,
      "outputs": [
        {
          "output_type": "stream",
          "name": "stdout",
          "text": [
            "<class 'pandas.core.frame.DataFrame'>\n",
            "RangeIndex: 2845342 entries, 0 to 2845341\n",
            "Data columns (total 47 columns):\n",
            " #   Column                 Dtype  \n",
            "---  ------                 -----  \n",
            " 0   ID                     object \n",
            " 1   Severity               int64  \n",
            " 2   Start_Time             object \n",
            " 3   End_Time               object \n",
            " 4   Start_Lat              float64\n",
            " 5   Start_Lng              float64\n",
            " 6   End_Lat                float64\n",
            " 7   End_Lng                float64\n",
            " 8   Distance(mi)           float64\n",
            " 9   Description            object \n",
            " 10  Number                 float64\n",
            " 11  Street                 object \n",
            " 12  Side                   object \n",
            " 13  City                   object \n",
            " 14  County                 object \n",
            " 15  State                  object \n",
            " 16  Zipcode                object \n",
            " 17  Country                object \n",
            " 18  Timezone               object \n",
            " 19  Airport_Code           object \n",
            " 20  Weather_Timestamp      object \n",
            " 21  Temperature(F)         float64\n",
            " 22  Wind_Chill(F)          float64\n",
            " 23  Humidity(%)            float64\n",
            " 24  Pressure(in)           float64\n",
            " 25  Visibility(mi)         float64\n",
            " 26  Wind_Direction         object \n",
            " 27  Wind_Speed(mph)        float64\n",
            " 28  Precipitation(in)      float64\n",
            " 29  Weather_Condition      object \n",
            " 30  Amenity                bool   \n",
            " 31  Bump                   bool   \n",
            " 32  Crossing               bool   \n",
            " 33  Give_Way               bool   \n",
            " 34  Junction               bool   \n",
            " 35  No_Exit                bool   \n",
            " 36  Railway                bool   \n",
            " 37  Roundabout             bool   \n",
            " 38  Station                bool   \n",
            " 39  Stop                   bool   \n",
            " 40  Traffic_Calming        bool   \n",
            " 41  Traffic_Signal         bool   \n",
            " 42  Turning_Loop           bool   \n",
            " 43  Sunrise_Sunset         object \n",
            " 44  Civil_Twilight         object \n",
            " 45  Nautical_Twilight      object \n",
            " 46  Astronomical_Twilight  object \n",
            "dtypes: bool(13), float64(13), int64(1), object(20)\n",
            "memory usage: 773.4+ MB\n"
          ]
        }
      ]
    },
    {
      "cell_type": "code",
      "source": [
        "#getting statistical information from the dataset\n",
        "\n",
        "df.describe()"
      ],
      "metadata": {
        "colab": {
          "base_uri": "https://localhost:8080/",
          "height": 364
        },
        "id": "bv1raUmrnOVF",
        "outputId": "cf639e4b-07ef-4e8d-a900-7ed9d6724d85"
      },
      "execution_count": 10,
      "outputs": [
        {
          "output_type": "execute_result",
          "data": {
            "text/plain": [
              "           Severity     Start_Lat     Start_Lng       End_Lat       End_Lng  \\\n",
              "count  2.845342e+06  2.845342e+06  2.845342e+06  2.845342e+06  2.845342e+06   \n",
              "mean   2.137572e+00  3.624520e+01 -9.711463e+01  3.624532e+01 -9.711439e+01   \n",
              "std    4.787216e-01  5.363797e+00  1.831782e+01  5.363873e+00  1.831763e+01   \n",
              "min    1.000000e+00  2.456603e+01 -1.245481e+02  2.456601e+01 -1.245457e+02   \n",
              "25%    2.000000e+00  3.344517e+01 -1.180331e+02  3.344628e+01 -1.180333e+02   \n",
              "50%    2.000000e+00  3.609861e+01 -9.241808e+01  3.609799e+01 -9.241772e+01   \n",
              "75%    2.000000e+00  4.016024e+01 -8.037243e+01  4.016105e+01 -8.037338e+01   \n",
              "max    4.000000e+00  4.900058e+01 -6.711317e+01  4.907500e+01 -6.710924e+01   \n",
              "\n",
              "       Distance(mi)        Number  Temperature(F)  Wind_Chill(F)  \\\n",
              "count  2.845342e+06  1.101431e+06    2.776068e+06   2.375699e+06   \n",
              "mean   7.026779e-01  8.089408e+03    6.179356e+01   5.965823e+01   \n",
              "std    1.560361e+00  1.836009e+04    1.862263e+01   2.116097e+01   \n",
              "min    0.000000e+00  0.000000e+00   -8.900000e+01  -8.900000e+01   \n",
              "25%    5.200000e-02  1.270000e+03    5.000000e+01   4.600000e+01   \n",
              "50%    2.440000e-01  4.007000e+03    6.400000e+01   6.300000e+01   \n",
              "75%    7.640000e-01  9.567000e+03    7.600000e+01   7.600000e+01   \n",
              "max    1.551860e+02  9.999997e+06    1.960000e+02   1.960000e+02   \n",
              "\n",
              "        Humidity(%)  Pressure(in)  Visibility(mi)  Wind_Speed(mph)  \\\n",
              "count  2.772250e+06  2.786142e+06    2.774796e+06     2.687398e+06   \n",
              "mean   6.436545e+01  2.947234e+01    9.099391e+00     7.395044e+00   \n",
              "std    2.287457e+01  1.045286e+00    2.717546e+00     5.527454e+00   \n",
              "min    1.000000e+00  0.000000e+00    0.000000e+00     0.000000e+00   \n",
              "25%    4.800000e+01  2.931000e+01    1.000000e+01     3.500000e+00   \n",
              "50%    6.700000e+01  2.982000e+01    1.000000e+01     7.000000e+00   \n",
              "75%    8.300000e+01  3.001000e+01    1.000000e+01     1.000000e+01   \n",
              "max    1.000000e+02  5.890000e+01    1.400000e+02     1.087000e+03   \n",
              "\n",
              "       Precipitation(in)  \n",
              "count       2.295884e+06  \n",
              "mean        7.016940e-03  \n",
              "std         9.348831e-02  \n",
              "min         0.000000e+00  \n",
              "25%         0.000000e+00  \n",
              "50%         0.000000e+00  \n",
              "75%         0.000000e+00  \n",
              "max         2.400000e+01  "
            ],
            "text/html": [
              "\n",
              "  <div id=\"df-3bb0c5bb-0b90-4a65-8f9b-593f400a2a64\">\n",
              "    <div class=\"colab-df-container\">\n",
              "      <div>\n",
              "<style scoped>\n",
              "    .dataframe tbody tr th:only-of-type {\n",
              "        vertical-align: middle;\n",
              "    }\n",
              "\n",
              "    .dataframe tbody tr th {\n",
              "        vertical-align: top;\n",
              "    }\n",
              "\n",
              "    .dataframe thead th {\n",
              "        text-align: right;\n",
              "    }\n",
              "</style>\n",
              "<table border=\"1\" class=\"dataframe\">\n",
              "  <thead>\n",
              "    <tr style=\"text-align: right;\">\n",
              "      <th></th>\n",
              "      <th>Severity</th>\n",
              "      <th>Start_Lat</th>\n",
              "      <th>Start_Lng</th>\n",
              "      <th>End_Lat</th>\n",
              "      <th>End_Lng</th>\n",
              "      <th>Distance(mi)</th>\n",
              "      <th>Number</th>\n",
              "      <th>Temperature(F)</th>\n",
              "      <th>Wind_Chill(F)</th>\n",
              "      <th>Humidity(%)</th>\n",
              "      <th>Pressure(in)</th>\n",
              "      <th>Visibility(mi)</th>\n",
              "      <th>Wind_Speed(mph)</th>\n",
              "      <th>Precipitation(in)</th>\n",
              "    </tr>\n",
              "  </thead>\n",
              "  <tbody>\n",
              "    <tr>\n",
              "      <th>count</th>\n",
              "      <td>2.845342e+06</td>\n",
              "      <td>2.845342e+06</td>\n",
              "      <td>2.845342e+06</td>\n",
              "      <td>2.845342e+06</td>\n",
              "      <td>2.845342e+06</td>\n",
              "      <td>2.845342e+06</td>\n",
              "      <td>1.101431e+06</td>\n",
              "      <td>2.776068e+06</td>\n",
              "      <td>2.375699e+06</td>\n",
              "      <td>2.772250e+06</td>\n",
              "      <td>2.786142e+06</td>\n",
              "      <td>2.774796e+06</td>\n",
              "      <td>2.687398e+06</td>\n",
              "      <td>2.295884e+06</td>\n",
              "    </tr>\n",
              "    <tr>\n",
              "      <th>mean</th>\n",
              "      <td>2.137572e+00</td>\n",
              "      <td>3.624520e+01</td>\n",
              "      <td>-9.711463e+01</td>\n",
              "      <td>3.624532e+01</td>\n",
              "      <td>-9.711439e+01</td>\n",
              "      <td>7.026779e-01</td>\n",
              "      <td>8.089408e+03</td>\n",
              "      <td>6.179356e+01</td>\n",
              "      <td>5.965823e+01</td>\n",
              "      <td>6.436545e+01</td>\n",
              "      <td>2.947234e+01</td>\n",
              "      <td>9.099391e+00</td>\n",
              "      <td>7.395044e+00</td>\n",
              "      <td>7.016940e-03</td>\n",
              "    </tr>\n",
              "    <tr>\n",
              "      <th>std</th>\n",
              "      <td>4.787216e-01</td>\n",
              "      <td>5.363797e+00</td>\n",
              "      <td>1.831782e+01</td>\n",
              "      <td>5.363873e+00</td>\n",
              "      <td>1.831763e+01</td>\n",
              "      <td>1.560361e+00</td>\n",
              "      <td>1.836009e+04</td>\n",
              "      <td>1.862263e+01</td>\n",
              "      <td>2.116097e+01</td>\n",
              "      <td>2.287457e+01</td>\n",
              "      <td>1.045286e+00</td>\n",
              "      <td>2.717546e+00</td>\n",
              "      <td>5.527454e+00</td>\n",
              "      <td>9.348831e-02</td>\n",
              "    </tr>\n",
              "    <tr>\n",
              "      <th>min</th>\n",
              "      <td>1.000000e+00</td>\n",
              "      <td>2.456603e+01</td>\n",
              "      <td>-1.245481e+02</td>\n",
              "      <td>2.456601e+01</td>\n",
              "      <td>-1.245457e+02</td>\n",
              "      <td>0.000000e+00</td>\n",
              "      <td>0.000000e+00</td>\n",
              "      <td>-8.900000e+01</td>\n",
              "      <td>-8.900000e+01</td>\n",
              "      <td>1.000000e+00</td>\n",
              "      <td>0.000000e+00</td>\n",
              "      <td>0.000000e+00</td>\n",
              "      <td>0.000000e+00</td>\n",
              "      <td>0.000000e+00</td>\n",
              "    </tr>\n",
              "    <tr>\n",
              "      <th>25%</th>\n",
              "      <td>2.000000e+00</td>\n",
              "      <td>3.344517e+01</td>\n",
              "      <td>-1.180331e+02</td>\n",
              "      <td>3.344628e+01</td>\n",
              "      <td>-1.180333e+02</td>\n",
              "      <td>5.200000e-02</td>\n",
              "      <td>1.270000e+03</td>\n",
              "      <td>5.000000e+01</td>\n",
              "      <td>4.600000e+01</td>\n",
              "      <td>4.800000e+01</td>\n",
              "      <td>2.931000e+01</td>\n",
              "      <td>1.000000e+01</td>\n",
              "      <td>3.500000e+00</td>\n",
              "      <td>0.000000e+00</td>\n",
              "    </tr>\n",
              "    <tr>\n",
              "      <th>50%</th>\n",
              "      <td>2.000000e+00</td>\n",
              "      <td>3.609861e+01</td>\n",
              "      <td>-9.241808e+01</td>\n",
              "      <td>3.609799e+01</td>\n",
              "      <td>-9.241772e+01</td>\n",
              "      <td>2.440000e-01</td>\n",
              "      <td>4.007000e+03</td>\n",
              "      <td>6.400000e+01</td>\n",
              "      <td>6.300000e+01</td>\n",
              "      <td>6.700000e+01</td>\n",
              "      <td>2.982000e+01</td>\n",
              "      <td>1.000000e+01</td>\n",
              "      <td>7.000000e+00</td>\n",
              "      <td>0.000000e+00</td>\n",
              "    </tr>\n",
              "    <tr>\n",
              "      <th>75%</th>\n",
              "      <td>2.000000e+00</td>\n",
              "      <td>4.016024e+01</td>\n",
              "      <td>-8.037243e+01</td>\n",
              "      <td>4.016105e+01</td>\n",
              "      <td>-8.037338e+01</td>\n",
              "      <td>7.640000e-01</td>\n",
              "      <td>9.567000e+03</td>\n",
              "      <td>7.600000e+01</td>\n",
              "      <td>7.600000e+01</td>\n",
              "      <td>8.300000e+01</td>\n",
              "      <td>3.001000e+01</td>\n",
              "      <td>1.000000e+01</td>\n",
              "      <td>1.000000e+01</td>\n",
              "      <td>0.000000e+00</td>\n",
              "    </tr>\n",
              "    <tr>\n",
              "      <th>max</th>\n",
              "      <td>4.000000e+00</td>\n",
              "      <td>4.900058e+01</td>\n",
              "      <td>-6.711317e+01</td>\n",
              "      <td>4.907500e+01</td>\n",
              "      <td>-6.710924e+01</td>\n",
              "      <td>1.551860e+02</td>\n",
              "      <td>9.999997e+06</td>\n",
              "      <td>1.960000e+02</td>\n",
              "      <td>1.960000e+02</td>\n",
              "      <td>1.000000e+02</td>\n",
              "      <td>5.890000e+01</td>\n",
              "      <td>1.400000e+02</td>\n",
              "      <td>1.087000e+03</td>\n",
              "      <td>2.400000e+01</td>\n",
              "    </tr>\n",
              "  </tbody>\n",
              "</table>\n",
              "</div>\n",
              "      <button class=\"colab-df-convert\" onclick=\"convertToInteractive('df-3bb0c5bb-0b90-4a65-8f9b-593f400a2a64')\"\n",
              "              title=\"Convert this dataframe to an interactive table.\"\n",
              "              style=\"display:none;\">\n",
              "        \n",
              "  <svg xmlns=\"http://www.w3.org/2000/svg\" height=\"24px\"viewBox=\"0 0 24 24\"\n",
              "       width=\"24px\">\n",
              "    <path d=\"M0 0h24v24H0V0z\" fill=\"none\"/>\n",
              "    <path d=\"M18.56 5.44l.94 2.06.94-2.06 2.06-.94-2.06-.94-.94-2.06-.94 2.06-2.06.94zm-11 1L8.5 8.5l.94-2.06 2.06-.94-2.06-.94L8.5 2.5l-.94 2.06-2.06.94zm10 10l.94 2.06.94-2.06 2.06-.94-2.06-.94-.94-2.06-.94 2.06-2.06.94z\"/><path d=\"M17.41 7.96l-1.37-1.37c-.4-.4-.92-.59-1.43-.59-.52 0-1.04.2-1.43.59L10.3 9.45l-7.72 7.72c-.78.78-.78 2.05 0 2.83L4 21.41c.39.39.9.59 1.41.59.51 0 1.02-.2 1.41-.59l7.78-7.78 2.81-2.81c.8-.78.8-2.07 0-2.86zM5.41 20L4 18.59l7.72-7.72 1.47 1.35L5.41 20z\"/>\n",
              "  </svg>\n",
              "      </button>\n",
              "      \n",
              "  <style>\n",
              "    .colab-df-container {\n",
              "      display:flex;\n",
              "      flex-wrap:wrap;\n",
              "      gap: 12px;\n",
              "    }\n",
              "\n",
              "    .colab-df-convert {\n",
              "      background-color: #E8F0FE;\n",
              "      border: none;\n",
              "      border-radius: 50%;\n",
              "      cursor: pointer;\n",
              "      display: none;\n",
              "      fill: #1967D2;\n",
              "      height: 32px;\n",
              "      padding: 0 0 0 0;\n",
              "      width: 32px;\n",
              "    }\n",
              "\n",
              "    .colab-df-convert:hover {\n",
              "      background-color: #E2EBFA;\n",
              "      box-shadow: 0px 1px 2px rgba(60, 64, 67, 0.3), 0px 1px 3px 1px rgba(60, 64, 67, 0.15);\n",
              "      fill: #174EA6;\n",
              "    }\n",
              "\n",
              "    [theme=dark] .colab-df-convert {\n",
              "      background-color: #3B4455;\n",
              "      fill: #D2E3FC;\n",
              "    }\n",
              "\n",
              "    [theme=dark] .colab-df-convert:hover {\n",
              "      background-color: #434B5C;\n",
              "      box-shadow: 0px 1px 3px 1px rgba(0, 0, 0, 0.15);\n",
              "      filter: drop-shadow(0px 1px 2px rgba(0, 0, 0, 0.3));\n",
              "      fill: #FFFFFF;\n",
              "    }\n",
              "  </style>\n",
              "\n",
              "      <script>\n",
              "        const buttonEl =\n",
              "          document.querySelector('#df-3bb0c5bb-0b90-4a65-8f9b-593f400a2a64 button.colab-df-convert');\n",
              "        buttonEl.style.display =\n",
              "          google.colab.kernel.accessAllowed ? 'block' : 'none';\n",
              "\n",
              "        async function convertToInteractive(key) {\n",
              "          const element = document.querySelector('#df-3bb0c5bb-0b90-4a65-8f9b-593f400a2a64');\n",
              "          const dataTable =\n",
              "            await google.colab.kernel.invokeFunction('convertToInteractive',\n",
              "                                                     [key], {});\n",
              "          if (!dataTable) return;\n",
              "\n",
              "          const docLinkHtml = 'Like what you see? Visit the ' +\n",
              "            '<a target=\"_blank\" href=https://colab.research.google.com/notebooks/data_table.ipynb>data table notebook</a>'\n",
              "            + ' to learn more about interactive tables.';\n",
              "          element.innerHTML = '';\n",
              "          dataTable['output_type'] = 'display_data';\n",
              "          await google.colab.output.renderOutput(dataTable, element);\n",
              "          const docLink = document.createElement('div');\n",
              "          docLink.innerHTML = docLinkHtml;\n",
              "          element.appendChild(docLink);\n",
              "        }\n",
              "      </script>\n",
              "    </div>\n",
              "  </div>\n",
              "  "
            ]
          },
          "metadata": {},
          "execution_count": 10
        }
      ]
    },
    {
      "cell_type": "code",
      "source": [
        "# getting only numeric columns from the dataset\n",
        "\n",
        "numerics = ['int16','int32','int64','float16','float32','float64']\n",
        "numeric_df= df.select_dtypes(include=numerics)\n",
        "len(numeric_df.columns)"
      ],
      "metadata": {
        "id": "iyydKnfvnOPs",
        "colab": {
          "base_uri": "https://localhost:8080/"
        },
        "outputId": "e04702f0-4dd8-4486-bf1b-793d0450f256"
      },
      "execution_count": 11,
      "outputs": [
        {
          "output_type": "execute_result",
          "data": {
            "text/plain": [
              "14"
            ]
          },
          "metadata": {},
          "execution_count": 11
        }
      ]
    },
    {
      "cell_type": "code",
      "source": [
        "# getting a count of missing values for each column\n",
        "\n",
        "df.isna().sum()"
      ],
      "metadata": {
        "id": "70Kqm9Z0nOMs",
        "colab": {
          "base_uri": "https://localhost:8080/"
        },
        "outputId": "fad34844-b358-4f4f-bf54-b2a47cc980cd"
      },
      "execution_count": 12,
      "outputs": [
        {
          "output_type": "execute_result",
          "data": {
            "text/plain": [
              "ID                             0\n",
              "Severity                       0\n",
              "Start_Time                     0\n",
              "End_Time                       0\n",
              "Start_Lat                      0\n",
              "Start_Lng                      0\n",
              "End_Lat                        0\n",
              "End_Lng                        0\n",
              "Distance(mi)                   0\n",
              "Description                    0\n",
              "Number                   1743911\n",
              "Street                         2\n",
              "Side                           0\n",
              "City                         137\n",
              "County                         0\n",
              "State                          0\n",
              "Zipcode                     1319\n",
              "Country                        0\n",
              "Timezone                    3659\n",
              "Airport_Code                9549\n",
              "Weather_Timestamp          50736\n",
              "Temperature(F)             69274\n",
              "Wind_Chill(F)             469643\n",
              "Humidity(%)                73092\n",
              "Pressure(in)               59200\n",
              "Visibility(mi)             70546\n",
              "Wind_Direction             73775\n",
              "Wind_Speed(mph)           157944\n",
              "Precipitation(in)         549458\n",
              "Weather_Condition          70636\n",
              "Amenity                        0\n",
              "Bump                           0\n",
              "Crossing                       0\n",
              "Give_Way                       0\n",
              "Junction                       0\n",
              "No_Exit                        0\n",
              "Railway                        0\n",
              "Roundabout                     0\n",
              "Station                        0\n",
              "Stop                           0\n",
              "Traffic_Calming                0\n",
              "Traffic_Signal                 0\n",
              "Turning_Loop                   0\n",
              "Sunrise_Sunset              2867\n",
              "Civil_Twilight              2867\n",
              "Nautical_Twilight           2867\n",
              "Astronomical_Twilight       2867\n",
              "dtype: int64"
            ]
          },
          "metadata": {},
          "execution_count": 12
        }
      ]
    },
    {
      "cell_type": "code",
      "source": [
        "# sorting the columns in descending order based on number of missing values.\n",
        "\n",
        "df.isna().sum().sort_values(ascending = False)"
      ],
      "metadata": {
        "id": "VVMuX8IbnOGW",
        "colab": {
          "base_uri": "https://localhost:8080/"
        },
        "outputId": "20ac94b8-785f-44be-ae26-a5f63bd2a3d2"
      },
      "execution_count": 13,
      "outputs": [
        {
          "output_type": "execute_result",
          "data": {
            "text/plain": [
              "Number                   1743911\n",
              "Precipitation(in)         549458\n",
              "Wind_Chill(F)             469643\n",
              "Wind_Speed(mph)           157944\n",
              "Wind_Direction             73775\n",
              "Humidity(%)                73092\n",
              "Weather_Condition          70636\n",
              "Visibility(mi)             70546\n",
              "Temperature(F)             69274\n",
              "Pressure(in)               59200\n",
              "Weather_Timestamp          50736\n",
              "Airport_Code                9549\n",
              "Timezone                    3659\n",
              "Nautical_Twilight           2867\n",
              "Civil_Twilight              2867\n",
              "Sunrise_Sunset              2867\n",
              "Astronomical_Twilight       2867\n",
              "Zipcode                     1319\n",
              "City                         137\n",
              "Street                         2\n",
              "Country                        0\n",
              "Junction                       0\n",
              "Start_Time                     0\n",
              "End_Time                       0\n",
              "Start_Lat                      0\n",
              "Turning_Loop                   0\n",
              "Traffic_Signal                 0\n",
              "Traffic_Calming                0\n",
              "Stop                           0\n",
              "Station                        0\n",
              "Roundabout                     0\n",
              "Railway                        0\n",
              "No_Exit                        0\n",
              "Crossing                       0\n",
              "Give_Way                       0\n",
              "Bump                           0\n",
              "Amenity                        0\n",
              "Start_Lng                      0\n",
              "End_Lat                        0\n",
              "End_Lng                        0\n",
              "Distance(mi)                   0\n",
              "Description                    0\n",
              "Severity                       0\n",
              "Side                           0\n",
              "County                         0\n",
              "State                          0\n",
              "ID                             0\n",
              "dtype: int64"
            ]
          },
          "metadata": {},
          "execution_count": 13
        }
      ]
    },
    {
      "cell_type": "code",
      "source": [
        "# missing values per column in  percentages\n",
        "\n",
        "missing_percentage = df.isna().sum().sort_values(ascending = False)/len(df)\n",
        "missing_percentage"
      ],
      "metadata": {
        "id": "Rwqddq-LnODE",
        "colab": {
          "base_uri": "https://localhost:8080/"
        },
        "outputId": "1c25af83-6bfd-44a9-e706-d06e8dbd2cb9"
      },
      "execution_count": 14,
      "outputs": [
        {
          "output_type": "execute_result",
          "data": {
            "text/plain": [
              "Number                   6.129003e-01\n",
              "Precipitation(in)        1.931079e-01\n",
              "Wind_Chill(F)            1.650568e-01\n",
              "Wind_Speed(mph)          5.550967e-02\n",
              "Wind_Direction           2.592834e-02\n",
              "Humidity(%)              2.568830e-02\n",
              "Weather_Condition        2.482514e-02\n",
              "Visibility(mi)           2.479350e-02\n",
              "Temperature(F)           2.434646e-02\n",
              "Pressure(in)             2.080593e-02\n",
              "Weather_Timestamp        1.783125e-02\n",
              "Airport_Code             3.356011e-03\n",
              "Timezone                 1.285961e-03\n",
              "Nautical_Twilight        1.007612e-03\n",
              "Civil_Twilight           1.007612e-03\n",
              "Sunrise_Sunset           1.007612e-03\n",
              "Astronomical_Twilight    1.007612e-03\n",
              "Zipcode                  4.635647e-04\n",
              "City                     4.814887e-05\n",
              "Street                   7.029032e-07\n",
              "Country                  0.000000e+00\n",
              "Junction                 0.000000e+00\n",
              "Start_Time               0.000000e+00\n",
              "End_Time                 0.000000e+00\n",
              "Start_Lat                0.000000e+00\n",
              "Turning_Loop             0.000000e+00\n",
              "Traffic_Signal           0.000000e+00\n",
              "Traffic_Calming          0.000000e+00\n",
              "Stop                     0.000000e+00\n",
              "Station                  0.000000e+00\n",
              "Roundabout               0.000000e+00\n",
              "Railway                  0.000000e+00\n",
              "No_Exit                  0.000000e+00\n",
              "Crossing                 0.000000e+00\n",
              "Give_Way                 0.000000e+00\n",
              "Bump                     0.000000e+00\n",
              "Amenity                  0.000000e+00\n",
              "Start_Lng                0.000000e+00\n",
              "End_Lat                  0.000000e+00\n",
              "End_Lng                  0.000000e+00\n",
              "Distance(mi)             0.000000e+00\n",
              "Description              0.000000e+00\n",
              "Severity                 0.000000e+00\n",
              "Side                     0.000000e+00\n",
              "County                   0.000000e+00\n",
              "State                    0.000000e+00\n",
              "ID                       0.000000e+00\n",
              "dtype: float64"
            ]
          },
          "metadata": {},
          "execution_count": 14
        }
      ]
    },
    {
      "cell_type": "code",
      "source": [
        "#missing value percentage in the form of graph\n",
        "\n",
        "missing_percentage.plot(kind = 'barh')"
      ],
      "metadata": {
        "colab": {
          "base_uri": "https://localhost:8080/",
          "height": 284
        },
        "id": "DjIAQ5pV-A90",
        "outputId": "cf307ff4-4204-4c4d-e090-5feb42dd441d"
      },
      "execution_count": 15,
      "outputs": [
        {
          "output_type": "execute_result",
          "data": {
            "text/plain": [
              "<matplotlib.axes._subplots.AxesSubplot at 0x7f2ee4d1a2d0>"
            ]
          },
          "metadata": {},
          "execution_count": 15
        },
        {
          "output_type": "display_data",
          "data": {
            "text/plain": [
              "<Figure size 432x288 with 1 Axes>"
            ],
            "image/png": "[encoded data removed]"
          },
          "metadata": {
            "needs_background": "light"
          }
        }
      ]
    },
    {
      "cell_type": "code",
      "source": [
        "# considering only those columns whose missing value percentage is not zero\n",
        "\n",
        "missing_percentage[missing_percentage!=0]"
      ],
      "metadata": {
        "colab": {
          "base_uri": "https://localhost:8080/"
        },
        "id": "l0GLEROP_pV3",
        "outputId": "8f4e51c3-f15b-44c7-b43d-b589dfbab978"
      },
      "execution_count": 16,
      "outputs": [
        {
          "output_type": "execute_result",
          "data": {
            "text/plain": [
              "Number                   6.129003e-01\n",
              "Precipitation(in)        1.931079e-01\n",
              "Wind_Chill(F)            1.650568e-01\n",
              "Wind_Speed(mph)          5.550967e-02\n",
              "Wind_Direction           2.592834e-02\n",
              "Humidity(%)              2.568830e-02\n",
              "Weather_Condition        2.482514e-02\n",
              "Visibility(mi)           2.479350e-02\n",
              "Temperature(F)           2.434646e-02\n",
              "Pressure(in)             2.080593e-02\n",
              "Weather_Timestamp        1.783125e-02\n",
              "Airport_Code             3.356011e-03\n",
              "Timezone                 1.285961e-03\n",
              "Nautical_Twilight        1.007612e-03\n",
              "Civil_Twilight           1.007612e-03\n",
              "Sunrise_Sunset           1.007612e-03\n",
              "Astronomical_Twilight    1.007612e-03\n",
              "Zipcode                  4.635647e-04\n",
              "City                     4.814887e-05\n",
              "Street                   7.029032e-07\n",
              "dtype: float64"
            ]
          },
          "metadata": {},
          "execution_count": 16
        }
      ]
    },
    {
      "cell_type": "code",
      "source": [
        "#plotting horizontal bar plot\n",
        "\n",
        "missing_percentage[missing_percentage!=0].plot(kind = 'barh')"
      ],
      "metadata": {
        "colab": {
          "base_uri": "https://localhost:8080/",
          "height": 282
        },
        "id": "n46Oz8EhALMO",
        "outputId": "890331bd-09b4-402a-e050-99755328b7f1"
      },
      "execution_count": 17,
      "outputs": [
        {
          "output_type": "execute_result",
          "data": {
            "text/plain": [
              "<matplotlib.axes._subplots.AxesSubplot at 0x7f2ee66ed990>"
            ]
          },
          "metadata": {},
          "execution_count": 17
        },
        {
          "output_type": "display_data",
          "data": {
            "text/plain": [
              "<Figure size 432x288 with 1 Axes>"
            ],
            "image/png": "[encoded data removed]"
          },
          "metadata": {
            "needs_background": "light"
          }
        }
      ]
    },
    {
      "cell_type": "markdown",
      "source": [
        "### Exploratory Analysis and Visualization\n",
        "\n",
        "columns to analyze\n",
        "\n",
        "- City\n",
        "- start time\n",
        "- start lat, end lat\n",
        "- Temperature\n",
        "- weather condition"
      ],
      "metadata": {
        "id": "S_n6iHTehf3-"
      }
    },
    {
      "cell_type": "markdown",
      "source": [
        "### city"
      ],
      "metadata": {
        "id": "6eVjis6MUexc"
      }
    },
    {
      "cell_type": "code",
      "source": [
        "\n",
        "df.City"
      ],
      "metadata": {
        "id": "8kQyTZdRhsWG",
        "colab": {
          "base_uri": "https://localhost:8080/"
        },
        "outputId": "fe837680-56eb-4712-92a8-6b967175f9d9"
      },
      "execution_count": 51,
      "outputs": [
        {
          "output_type": "execute_result",
          "data": {
            "text/plain": [
              "0               Dublin\n",
              "1               Dayton\n",
              "2           Cincinnati\n",
              "3                Akron\n",
              "4           Cincinnati\n",
              "              ...     \n",
              "2845337      Riverside\n",
              "2845338      San Diego\n",
              "2845339         Orange\n",
              "2845340    Culver City\n",
              "2845341       Highland\n",
              "Name: City, Length: 2845342, dtype: object"
            ]
          },
          "metadata": {},
          "execution_count": 51
        }
      ]
    },
    {
      "cell_type": "code",
      "source": [
        "# unique values in city column\n",
        "\n",
        "Cities = df.City.unique()\n",
        "print(len(Cities))\n",
        "print(Cities[:100])"
      ],
      "metadata": {
        "id": "tbIaf9b1hsrW",
        "colab": {
          "base_uri": "https://localhost:8080/"
        },
        "outputId": "ae8551c2-3cbc-4bbe-d83c-cc9d8c74efb4"
      },
      "execution_count": 52,
      "outputs": [
        {
          "output_type": "stream",
          "name": "stdout",
          "text": [
            "11682\n",
            "['Dublin' 'Dayton' 'Cincinnati' 'Akron' 'Williamsburg' 'Cleveland' 'Lima'\n",
            " 'Westerville' 'Jamestown' 'Freeport' 'Columbus' 'Toledo' 'Roanoke'\n",
            " 'Ft Mitchell' 'Edinburgh' 'Fairborn' 'Shelbyville' 'Greensburg'\n",
            " 'Saint Paul' 'Parkersburg' 'Indianapolis' 'Dundee' 'Jeffersonville'\n",
            " 'Pittsburgh' 'Lewis Center' 'Dunkirk' 'Redkey' 'Milton' 'Willshire'\n",
            " 'Straughn' 'Cambridge Springs' 'Fremont' 'Louisville' 'South Charleston'\n",
            " 'Edinboro' 'Buckhannon' 'Lockbourne' 'Painesville' 'Washington' 'Dunbar'\n",
            " 'Angola' 'Edon' 'Medina' 'De Mossville' 'New Albany' 'Charleston'\n",
            " 'Fort Wayne' 'Burnsville' 'Bedford' 'Clarksville' 'Lakewood' 'Richfield'\n",
            " 'Sewickley' 'Independence' 'Westlake' 'Erlanger' 'Grove City' 'Monroe'\n",
            " 'West Middlesex' 'Gaston' 'Economy' 'Fairmount' 'Hagerstown' 'Walton'\n",
            " 'Crittenden' 'Coraopolis' 'Holland' 'Greenfield' 'Anderson' 'Englewood'\n",
            " 'Knightstown' 'Bentleyville' 'Memphis' 'Henryville' 'Kendallville'\n",
            " 'Avilla' 'Ohio City' 'Van Wert' 'Rocky River' 'Sturgis' 'West Chester'\n",
            " 'Orient' 'Madison' 'Deputy' 'Keystone' 'Mercer' 'Bryant' 'Pennville'\n",
            " 'Kimbolton' 'Thornville' 'Wexford' 'Fishers' 'Noblesville' 'Macedonia'\n",
            " 'Youngstown' 'Fairdale' 'Sutton' 'Mount Sterling' 'Northwood'\n",
            " 'Huntington']\n"
          ]
        }
      ]
    },
    {
      "cell_type": "code",
      "source": [
        "# number of accidents in each city\n",
        "\n",
        "cities_by_accident= df.City.value_counts()\n",
        "cities_by_accident\n"
      ],
      "metadata": {
        "id": "Sp_wL1Uhhshe",
        "colab": {
          "base_uri": "https://localhost:8080/"
        },
        "outputId": "856ecb50-9625-4d2b-c7ac-796d8e2ea013"
      },
      "execution_count": 53,
      "outputs": [
        {
          "output_type": "execute_result",
          "data": {
            "text/plain": [
              "Miami                           106966\n",
              "Los Angeles                      68956\n",
              "Orlando                          54691\n",
              "Dallas                           41979\n",
              "Houston                          39448\n",
              "                                 ...  \n",
              "Ridgedale                            1\n",
              "Sekiu                                1\n",
              "Wooldridge                           1\n",
              "Bullock                              1\n",
              "American Fork-Pleasant Grove         1\n",
              "Name: City, Length: 11681, dtype: int64"
            ]
          },
          "metadata": {},
          "execution_count": 53
        }
      ]
    },
    {
      "cell_type": "code",
      "source": [
        "# Top 10 cities with most accidents between 2016-2021 in us\n",
        "\n",
        "cities_by_accident[:10]"
      ],
      "metadata": {
        "colab": {
          "base_uri": "https://localhost:8080/"
        },
        "id": "W9p1F9KaFubm",
        "outputId": "c8e54312-0e42-436d-c96b-3dc8afa98322"
      },
      "execution_count": 54,
      "outputs": [
        {
          "output_type": "execute_result",
          "data": {
            "text/plain": [
              "Miami          106966\n",
              "Los Angeles     68956\n",
              "Orlando         54691\n",
              "Dallas          41979\n",
              "Houston         39448\n",
              "Charlotte       33152\n",
              "Sacramento      32559\n",
              "San Diego       26627\n",
              "Raleigh         22840\n",
              "Minneapolis     22768\n",
              "Name: City, dtype: int64"
            ]
          },
          "metadata": {},
          "execution_count": 54
        }
      ]
    },
    {
      "cell_type": "markdown",
      "source": [
        "##### Miami is the city in US that has observed more number of accidents between 2016-2021"
      ],
      "metadata": {
        "id": "YDTbfJ-kGdn8"
      }
    },
    {
      "cell_type": "code",
      "source": [
        "# Number of accidents in New York\n",
        "\n",
        "cities_by_accident['New York']"
      ],
      "metadata": {
        "colab": {
          "base_uri": "https://localhost:8080/"
        },
        "id": "8BeZTnU-FuUf",
        "outputId": "8fb4141b-9a7a-4e6f-d58c-2eb7f604f839"
      },
      "execution_count": 55,
      "outputs": [
        {
          "output_type": "execute_result",
          "data": {
            "text/plain": [
              "7068"
            ]
          },
          "metadata": {},
          "execution_count": 55
        }
      ]
    },
    {
      "cell_type": "code",
      "source": [
        "#bar plot of top 20 cities by accident\n",
        "\n",
        "cities_by_accident[:20].plot(kind='barh')"
      ],
      "metadata": {
        "colab": {
          "base_uri": "https://localhost:8080/",
          "height": 282
        },
        "id": "__dOWbrKFuRt",
        "outputId": "9bb23988-127b-4a38-c3e5-13cfdd8080bd"
      },
      "execution_count": 56,
      "outputs": [
        {
          "output_type": "execute_result",
          "data": {
            "text/plain": [
              "<matplotlib.axes._subplots.AxesSubplot at 0x7f2ec8a5f290>"
            ]
          },
          "metadata": {},
          "execution_count": 56
        },
        {
          "output_type": "display_data",
          "data": {
            "text/plain": [
              "<Figure size 432x288 with 1 Axes>"
            ],
            "image/png": "[encoded data removed]"
          },
          "metadata": {}
        }
      ]
    },
    {
      "cell_type": "code",
      "source": [
        "# to which state most of the cities belong to\n",
        "df.State.value_counts()"
      ],
      "metadata": {
        "id": "G8OGS1Z7JeDi",
        "colab": {
          "base_uri": "https://localhost:8080/"
        },
        "outputId": "ab678485-781e-4867-ce7a-5a6e4432a637"
      },
      "execution_count": 107,
      "outputs": [
        {
          "output_type": "execute_result",
          "data": {
            "text/plain": [
              "CA    795868\n",
              "FL    401388\n",
              "TX    149037\n",
              "OR    126341\n",
              "VA    113535\n",
              "NY    108049\n",
              "PA     99975\n",
              "MN     97185\n",
              "NC     91362\n",
              "SC     89216\n",
              "MD     65085\n",
              "AZ     56504\n",
              "NJ     52902\n",
              "TN     52613\n",
              "UT     49193\n",
              "LA     47232\n",
              "IL     47105\n",
              "MI     43843\n",
              "GA     40086\n",
              "WA     32554\n",
              "CT     29762\n",
              "MO     29633\n",
              "CO     25340\n",
              "OH     24409\n",
              "IN     20850\n",
              "AL     19322\n",
              "MT     15964\n",
              "AR     10935\n",
              "IA      9607\n",
              "DC      9133\n",
              "KS      9033\n",
              "OK      8806\n",
              "ID      8544\n",
              "WI      7896\n",
              "WV      7632\n",
              "KY      6638\n",
              "MA      6392\n",
              "NV      6197\n",
              "MS      5320\n",
              "DE      4842\n",
              "RI      4451\n",
              "NH      3866\n",
              "NE      3320\n",
              "NM      2370\n",
              "ND      2258\n",
              "ME      2193\n",
              "WY       990\n",
              "VT       365\n",
              "SD       201\n",
              "Name: State, dtype: int64"
            ]
          },
          "metadata": {},
          "execution_count": 107
        }
      ]
    },
    {
      "cell_type": "markdown",
      "source": [
        "States wise Highest number of accidents were observed in california followed by Florida"
      ],
      "metadata": {
        "id": "x4QNwb-UDtz6"
      }
    },
    {
      "cell_type": "code",
      "source": [
        "# Distribution of Cities_by_accident\n",
        "\n",
        "import seaborn as sns\n",
        "sns.set_style(\"darkgrid\")"
      ],
      "metadata": {
        "id": "dUFvzPrFJd7s"
      },
      "execution_count": 58,
      "outputs": []
    },
    {
      "cell_type": "code",
      "source": [
        "sns.distplot(cities_by_accident)"
      ],
      "metadata": {
        "colab": {
          "base_uri": "https://localhost:8080/",
          "height": 296
        },
        "id": "_O9bHQA6Jd4N",
        "outputId": "1c7aec83-b002-46f4-8c1c-defa5f3b83c9"
      },
      "execution_count": 59,
      "outputs": [
        {
          "output_type": "execute_result",
          "data": {
            "text/plain": [
              "<matplotlib.axes._subplots.AxesSubplot at 0x7f2ec8996f10>"
            ]
          },
          "metadata": {},
          "execution_count": 59
        },
        {
          "output_type": "display_data",
          "data": {
            "text/plain": [
              "<Figure size 432x288 with 1 Axes>"
            ],
            "image/png": "[encoded data removed]"
          },
          "metadata": {}
        }
      ]
    },
    {
      "cell_type": "markdown",
      "source": [
        "observation : The number of accidents is most number of cities is low (0-2000) and in few cities the number of accidents are more."
      ],
      "metadata": {
        "id": "Eqzg3ShaMyWR"
      }
    },
    {
      "cell_type": "code",
      "source": [
        "High_accident_cities = cities_by_accident[cities_by_accident>=1000]\n",
        "less_accident_cities = cities_by_accident[cities_by_accident<1000]\n"
      ],
      "metadata": {
        "id": "TFYV6Q3nJd07"
      },
      "execution_count": 60,
      "outputs": []
    },
    {
      "cell_type": "code",
      "source": [
        "print(High_accident_cities)\n",
        "print(len(High_accident_cities)/len(Cities))"
      ],
      "metadata": {
        "colab": {
          "base_uri": "https://localhost:8080/"
        },
        "id": "SwQLUTBqFuLe",
        "outputId": "6240e93f-5146-4e52-bea8-356648fc4d6c"
      },
      "execution_count": 61,
      "outputs": [
        {
          "output_type": "stream",
          "name": "stdout",
          "text": [
            "Miami          106966\n",
            "Los Angeles     68956\n",
            "Orlando         54691\n",
            "Dallas          41979\n",
            "Houston         39448\n",
            "                ...  \n",
            "Tualatin         1001\n",
            "Utica            1001\n",
            "Los Banos        1001\n",
            "Mankato          1000\n",
            "Chiloquin        1000\n",
            "Name: City, Length: 496, dtype: int64\n",
            "0.04245848313644924\n"
          ]
        }
      ]
    },
    {
      "cell_type": "markdown",
      "source": [
        "observation : Less than 5 percent of cities have more than 1000 accidents"
      ],
      "metadata": {
        "id": "TvjKZq_UPQDa"
      }
    },
    {
      "cell_type": "code",
      "source": [
        "sns.distplot(High_accident_cities)"
      ],
      "metadata": {
        "colab": {
          "base_uri": "https://localhost:8080/",
          "height": 351
        },
        "id": "h41DqRcKPhDz",
        "outputId": "a0b1412f-ce37-438c-87b0-87110faa3a37"
      },
      "execution_count": 62,
      "outputs": [
        {
          "output_type": "stream",
          "name": "stderr",
          "text": [
            "/usr/local/lib/python3.7/dist-packages/seaborn/distributions.py:2619: FutureWarning: `distplot` is a deprecated function and will be removed in a future version. Please adapt your code to use either `displot` (a figure-level function with similar flexibility) or `histplot` (an axes-level function for histograms).\n",
            "  warnings.warn(msg, FutureWarning)\n"
          ]
        },
        {
          "output_type": "execute_result",
          "data": {
            "text/plain": [
              "<matplotlib.axes._subplots.AxesSubplot at 0x7f2ec872e790>"
            ]
          },
          "metadata": {},
          "execution_count": 62
        },
        {
          "output_type": "display_data",
          "data": {
            "text/plain": [
              "<Figure size 432x288 with 1 Axes>"
            ],
            "image/png": "[encoded data removed]"
          },
          "metadata": {}
        }
      ]
    },
    {
      "cell_type": "code",
      "source": [
        "print(less_accident_cities)\n",
        "print(len(less_accident_cities))\n"
      ],
      "metadata": {
        "colab": {
          "base_uri": "https://localhost:8080/"
        },
        "id": "PnxzvhZhFuIe",
        "outputId": "75bc1645-96db-4cac-acb2-87fe58f86219"
      },
      "execution_count": 63,
      "outputs": [
        {
          "output_type": "stream",
          "name": "stdout",
          "text": [
            "Osseo                           997\n",
            "Madras                          997\n",
            "Manor                           992\n",
            "Portsmouth                      988\n",
            "Schenectady                     985\n",
            "                               ... \n",
            "Ridgedale                         1\n",
            "Sekiu                             1\n",
            "Wooldridge                        1\n",
            "Bullock                           1\n",
            "American Fork-Pleasant Grove      1\n",
            "Name: City, Length: 11185, dtype: int64\n",
            "11185\n"
          ]
        }
      ]
    },
    {
      "cell_type": "code",
      "source": [
        "sns.displot(less_accident_cities)"
      ],
      "metadata": {
        "colab": {
          "base_uri": "https://localhost:8080/",
          "height": 386
        },
        "id": "hp2ylAqMSo4x",
        "outputId": "064bd74d-77cd-4418-fa2d-0ae1f1a3f6a6"
      },
      "execution_count": 64,
      "outputs": [
        {
          "output_type": "execute_result",
          "data": {
            "text/plain": [
              "<seaborn.axisgrid.FacetGrid at 0x7f2ec872ef10>"
            ]
          },
          "metadata": {},
          "execution_count": 64
        },
        {
          "output_type": "display_data",
          "data": {
            "text/plain": [
              "<Figure size 360x360 with 1 Axes>"
            ],
            "image/png": "[encoded data removed]"
          },
          "metadata": {}
        }
      ]
    },
    {
      "cell_type": "code",
      "source": [
        "sns.histplot(cities_by_accident,log_scale=True)"
      ],
      "metadata": {
        "colab": {
          "base_uri": "https://localhost:8080/",
          "height": 300
        },
        "id": "aZKksYnES9k_",
        "outputId": "fde7877e-d112-441e-91ff-b59d0dbb3af8"
      },
      "execution_count": 65,
      "outputs": [
        {
          "output_type": "execute_result",
          "data": {
            "text/plain": [
              "<matplotlib.axes._subplots.AxesSubplot at 0x7f2ec8403450>"
            ]
          },
          "metadata": {},
          "execution_count": 65
        },
        {
          "output_type": "display_data",
          "data": {
            "text/plain": [
              "<Figure size 432x288 with 1 Axes>"
            ],
            "image/png": "[encoded data removed]"
          },
          "metadata": {}
        }
      ]
    },
    {
      "cell_type": "code",
      "source": [
        "cities_by_accident[cities_by_accident==1]"
      ],
      "metadata": {
        "colab": {
          "base_uri": "https://localhost:8080/"
        },
        "id": "YRxx7-oYVQc5",
        "outputId": "ab4d9454-3bf6-4efb-c99e-0911caba3e07"
      },
      "execution_count": 66,
      "outputs": [
        {
          "output_type": "execute_result",
          "data": {
            "text/plain": [
              "Carney                          1\n",
              "Waverly Hall                    1\n",
              "Center Sandwich                 1\n",
              "Glen Flora                      1\n",
              "Sulphur Springs                 1\n",
              "                               ..\n",
              "Ridgedale                       1\n",
              "Sekiu                           1\n",
              "Wooldridge                      1\n",
              "Bullock                         1\n",
              "American Fork-Pleasant Grove    1\n",
              "Name: City, Length: 1110, dtype: int64"
            ]
          },
          "metadata": {},
          "execution_count": 66
        }
      ]
    },
    {
      "cell_type": "markdown",
      "source": [
        "most accidents are between 0-100 and over 1100 cities have just reported 1 accident"
      ],
      "metadata": {
        "id": "Y_66g5jJUNP0"
      }
    },
    {
      "cell_type": "code",
      "source": [
        "cities_by_accident[cities_by_accident<100]"
      ],
      "metadata": {
        "colab": {
          "base_uri": "https://localhost:8080/"
        },
        "id": "u8cXzpPjS9iP",
        "outputId": "56a394e7-59d6-4dbe-b455-2c3d7d697025"
      },
      "execution_count": 67,
      "outputs": [
        {
          "output_type": "execute_result",
          "data": {
            "text/plain": [
              "West Branch                     99\n",
              "Sturtevant                      99\n",
              "Highland Mills                  99\n",
              "Hazlet                          99\n",
              "Solvang                         99\n",
              "                                ..\n",
              "Ridgedale                        1\n",
              "Sekiu                            1\n",
              "Wooldridge                       1\n",
              "Bullock                          1\n",
              "American Fork-Pleasant Grove     1\n",
              "Name: City, Length: 8727, dtype: int64"
            ]
          },
          "metadata": {},
          "execution_count": 67
        }
      ]
    },
    {
      "cell_type": "markdown",
      "source": [
        "###start time"
      ],
      "metadata": {
        "id": "tGYWiidDVgih"
      }
    },
    {
      "cell_type": "code",
      "source": [
        "# Analyzing start time\n",
        "\n",
        "df.Start_Time"
      ],
      "metadata": {
        "id": "i_4I40vjS9e_",
        "colab": {
          "base_uri": "https://localhost:8080/"
        },
        "outputId": "cae08b47-c13f-47d1-e5e4-19199175d228"
      },
      "execution_count": 35,
      "outputs": [
        {
          "output_type": "execute_result",
          "data": {
            "text/plain": [
              "0          2016-02-08 00:37:08\n",
              "1          2016-02-08 05:56:20\n",
              "2          2016-02-08 06:15:39\n",
              "3          2016-02-08 06:51:45\n",
              "4          2016-02-08 07:53:43\n",
              "                  ...         \n",
              "2845337    2019-08-23 18:03:25\n",
              "2845338    2019-08-23 19:11:30\n",
              "2845339    2019-08-23 19:00:21\n",
              "2845340    2019-08-23 19:00:21\n",
              "2845341    2019-08-23 18:52:06\n",
              "Name: Start_Time, Length: 2845342, dtype: object"
            ]
          },
          "metadata": {},
          "execution_count": 35
        }
      ]
    },
    {
      "cell_type": "code",
      "source": [
        "# converting string to date\n",
        "\n",
        "df.Start_Time = pd.to_datetime(df.Start_Time)"
      ],
      "metadata": {
        "id": "zvGe5sDbS9b_"
      },
      "execution_count": 36,
      "outputs": []
    },
    {
      "cell_type": "code",
      "source": [
        "df.Start_Time[0]"
      ],
      "metadata": {
        "colab": {
          "base_uri": "https://localhost:8080/"
        },
        "id": "4uSKzu7YXgme",
        "outputId": "ac9fd42b-e333-4b45-84fa-ef87a97c03c3"
      },
      "execution_count": 37,
      "outputs": [
        {
          "output_type": "execute_result",
          "data": {
            "text/plain": [
              "Timestamp('2016-02-08 00:37:08')"
            ]
          },
          "metadata": {},
          "execution_count": 37
        }
      ]
    },
    {
      "cell_type": "code",
      "source": [
        "# Getting the hour information from start time\n",
        "df.Start_Time.dt.hour"
      ],
      "metadata": {
        "colab": {
          "base_uri": "https://localhost:8080/"
        },
        "id": "A-_UHmv3Xghk",
        "outputId": "3dff3e16-a102-42fb-c060-d6075d3efad8"
      },
      "execution_count": 38,
      "outputs": [
        {
          "output_type": "execute_result",
          "data": {
            "text/plain": [
              "0           0\n",
              "1           5\n",
              "2           6\n",
              "3           6\n",
              "4           7\n",
              "           ..\n",
              "2845337    18\n",
              "2845338    19\n",
              "2845339    19\n",
              "2845340    19\n",
              "2845341    18\n",
              "Name: Start_Time, Length: 2845342, dtype: int64"
            ]
          },
          "metadata": {},
          "execution_count": 38
        }
      ]
    },
    {
      "cell_type": "code",
      "source": [
        "sns.histplot(df.Start_Time.dt.hour,bins=24)"
      ],
      "metadata": {
        "colab": {
          "base_uri": "https://localhost:8080/",
          "height": 297
        },
        "id": "9pT0-2ZZXgVU",
        "outputId": "de3697dc-00e3-4c7d-e6cc-6ad1ee8b262a"
      },
      "execution_count": 39,
      "outputs": [
        {
          "output_type": "execute_result",
          "data": {
            "text/plain": [
              "<matplotlib.axes._subplots.AxesSubplot at 0x7f2ec8c9cbd0>"
            ]
          },
          "metadata": {},
          "execution_count": 39
        },
        {
          "output_type": "display_data",
          "data": {
            "text/plain": [
              "<Figure size 432x288 with 1 Axes>"
            ],
            "image/png": "[encoded data removed]"
          },
          "metadata": {}
        }
      ]
    },
    {
      "cell_type": "code",
      "source": [
        "sns.distplot(df.Start_Time.dt.hour,bins=24,norm_hist=True,kde=False)"
      ],
      "metadata": {
        "colab": {
          "base_uri": "https://localhost:8080/",
          "height": 352
        },
        "id": "4qSTVt_PbJ_g",
        "outputId": "b38b1288-b8c3-4ff1-ddad-523d2fa836a5"
      },
      "execution_count": 40,
      "outputs": [
        {
          "output_type": "stream",
          "name": "stderr",
          "text": [
            "/usr/local/lib/python3.7/dist-packages/seaborn/distributions.py:2619: FutureWarning: `distplot` is a deprecated function and will be removed in a future version. Please adapt your code to use either `displot` (a figure-level function with similar flexibility) or `histplot` (an axes-level function for histograms).\n",
            "  warnings.warn(msg, FutureWarning)\n"
          ]
        },
        {
          "output_type": "execute_result",
          "data": {
            "text/plain": [
              "<matplotlib.axes._subplots.AxesSubplot at 0x7f2f1a836790>"
            ]
          },
          "metadata": {},
          "execution_count": 40
        },
        {
          "output_type": "display_data",
          "data": {
            "text/plain": [
              "<Figure size 432x288 with 1 Axes>"
            ],
            "image/png": "[encoded data removed]"
          },
          "metadata": {}
        }
      ]
    },
    {
      "cell_type": "code",
      "source": [
        "#finding the time during which more accidents took place\n",
        "\n",
        "accident_time = df.Start_Time.dt.hour.value_counts().sort_values(ascending=False)\n",
        "print(accident_time)"
      ],
      "metadata": {
        "colab": {
          "base_uri": "https://localhost:8080/"
        },
        "id": "cTIYxUoLXgZd",
        "outputId": "40b71520-9dee-4af9-c250-d8f12f1a1571"
      },
      "execution_count": 41,
      "outputs": [
        {
          "output_type": "stream",
          "name": "stdout",
          "text": [
            "17    220358\n",
            "16    218385\n",
            "15    214264\n",
            "14    191480\n",
            "18    168982\n",
            "13    166473\n",
            "12    143715\n",
            "7     135191\n",
            "8     130879\n",
            "19    116911\n",
            "11    113271\n",
            "6     111160\n",
            "9     108779\n",
            "10    103926\n",
            "20     94682\n",
            "21     87078\n",
            "22     81188\n",
            "5      80303\n",
            "23     74243\n",
            "0      68800\n",
            "1      59370\n",
            "2      55443\n",
            "4      51805\n",
            "3      48656\n",
            "Name: Start_Time, dtype: int64\n"
          ]
        }
      ]
    },
    {
      "cell_type": "markdown",
      "source": [
        "observation : a high percentage of accidents took place more in between 1 pm to 7 pm and the next higher percentage of accidents in between 6 am to 8 am"
      ],
      "metadata": {
        "id": "34GKYea0b08u"
      }
    },
    {
      "cell_type": "code",
      "source": [
        "# more accidents occured on which day of the week\n",
        "\n",
        "sns.distplot(df.Start_Time.dt.day_of_week,bins=7,kde=False,norm_hist=True)"
      ],
      "metadata": {
        "colab": {
          "base_uri": "https://localhost:8080/",
          "height": 297
        },
        "id": "SZkUO_URcR9N",
        "outputId": "fc349042-2191-4024-9567-12ab50ffc3be"
      },
      "execution_count": 42,
      "outputs": [
        {
          "output_type": "execute_result",
          "data": {
            "text/plain": [
              "<matplotlib.axes._subplots.AxesSubplot at 0x7f2ec8bc28d0>"
            ]
          },
          "metadata": {},
          "execution_count": 42
        },
        {
          "output_type": "display_data",
          "data": {
            "text/plain": [
              "<Figure size 432x288 with 1 Axes>"
            ],
            "image/png": "[encoded data removed]"
          },
          "metadata": {}
        }
      ]
    },
    {
      "cell_type": "markdown",
      "source": [
        "observation: more Accidents were observed on weekdays and less number of accidents on weekends"
      ],
      "metadata": {
        "id": "7HRJGZGdeIOA"
      }
    },
    {
      "cell_type": "code",
      "source": [
        "#Finding If the distribution of accidents by hour same on weekdays and weekends\n",
        "\n",
        "sundays_start_time = df.Start_Time[df.Start_Time.dt.day_of_week==6 ]\n",
        "print( sundays_start_time)"
      ],
      "metadata": {
        "colab": {
          "base_uri": "https://localhost:8080/"
        },
        "id": "-kqytddafP3t",
        "outputId": "0b6b3e6d-02e9-4a94-dc2d-023a33face4b"
      },
      "execution_count": 43,
      "outputs": [
        {
          "output_type": "stream",
          "name": "stdout",
          "text": [
            "154       2016-02-14 03:58:33\n",
            "155       2016-02-14 05:26:58\n",
            "156       2016-02-14 16:30:40\n",
            "157       2016-02-14 16:38:40\n",
            "158       2016-02-14 17:40:17\n",
            "                  ...        \n",
            "2843129   2019-08-18 22:48:14\n",
            "2843130   2019-08-18 23:24:10\n",
            "2843243   2019-08-18 22:56:56\n",
            "2843244   2019-08-18 22:56:56\n",
            "2843282   2019-08-18 22:54:41\n",
            "Name: Start_Time, Length: 259274, dtype: datetime64[ns]\n"
          ]
        }
      ]
    },
    {
      "cell_type": "code",
      "source": [
        "sns.distplot(sundays_start_time.dt.hour,bins=24,kde=False,norm_hist=True)"
      ],
      "metadata": {
        "colab": {
          "base_uri": "https://localhost:8080/",
          "height": 297
        },
        "id": "MN3S3q6KgE6z",
        "outputId": "b2bde75e-8471-4ace-c95d-37d470572a49"
      },
      "execution_count": 44,
      "outputs": [
        {
          "output_type": "execute_result",
          "data": {
            "text/plain": [
              "<matplotlib.axes._subplots.AxesSubplot at 0x7f2ec8b2db90>"
            ]
          },
          "metadata": {},
          "execution_count": 44
        },
        {
          "output_type": "display_data",
          "data": {
            "text/plain": [
              "<Figure size 432x288 with 1 Axes>"
            ],
            "image/png": "[encoded data removed]"
          },
          "metadata": {}
        }
      ]
    },
    {
      "cell_type": "markdown",
      "source": [
        "on sundays the peak accidents take place between 12 pm to 4 pm"
      ],
      "metadata": {
        "id": "3-Y0Ce1FhPnX"
      }
    },
    {
      "cell_type": "code",
      "source": [
        "mondays_start_time=df.Start_Time[df.Start_Time.dt.day_of_week==0]\n",
        "mondays_start_time"
      ],
      "metadata": {
        "colab": {
          "base_uri": "https://localhost:8080/"
        },
        "id": "p9NGlIxYgSeT",
        "outputId": "94e40da9-6fde-4a65-cf4b-19da98991337"
      },
      "execution_count": 45,
      "outputs": [
        {
          "output_type": "execute_result",
          "data": {
            "text/plain": [
              "0         2016-02-08 00:37:08\n",
              "1         2016-02-08 05:56:20\n",
              "2         2016-02-08 06:15:39\n",
              "3         2016-02-08 06:51:45\n",
              "4         2016-02-08 07:53:43\n",
              "                  ...        \n",
              "2843321   2019-08-19 20:43:02\n",
              "2843322   2019-08-19 20:41:30\n",
              "2843675   2019-08-19 22:18:31\n",
              "2843676   2019-08-19 22:21:28\n",
              "2843677   2019-08-19 22:31:15\n",
              "Name: Start_Time, Length: 419821, dtype: datetime64[ns]"
            ]
          },
          "metadata": {},
          "execution_count": 45
        }
      ]
    },
    {
      "cell_type": "code",
      "source": [
        "sns.distplot(mondays_start_time.dt.hour,bins=24,kde=False,norm_hist=True)"
      ],
      "metadata": {
        "colab": {
          "base_uri": "https://localhost:8080/",
          "height": 297
        },
        "id": "1_0zlW8pgSbD",
        "outputId": "3f098bc3-4f46-4590-a023-73b94e1c6843"
      },
      "execution_count": 46,
      "outputs": [
        {
          "output_type": "execute_result",
          "data": {
            "text/plain": [
              "<matplotlib.axes._subplots.AxesSubplot at 0x7f2ec8a65290>"
            ]
          },
          "metadata": {},
          "execution_count": 46
        },
        {
          "output_type": "display_data",
          "data": {
            "text/plain": [
              "<Figure size 432x288 with 1 Axes>"
            ],
            "image/png": "[encoded data removed]"
          },
          "metadata": {}
        }
      ]
    },
    {
      "cell_type": "code",
      "source": [
        "sns.distplot(df.Start_Time.dt.month,bins=12,kde=False,norm_hist=True)"
      ],
      "metadata": {
        "colab": {
          "base_uri": "https://localhost:8080/",
          "height": 297
        },
        "id": "7DSL_hF3gSWq",
        "outputId": "23d33d7a-13f1-4a1d-fc2a-61b9573f9faf"
      },
      "execution_count": 47,
      "outputs": [
        {
          "output_type": "execute_result",
          "data": {
            "text/plain": [
              "<matplotlib.axes._subplots.AxesSubplot at 0x7f2ec898d490>"
            ]
          },
          "metadata": {},
          "execution_count": 47
        },
        {
          "output_type": "display_data",
          "data": {
            "text/plain": [
              "<Figure size 432x288 with 1 Axes>"
            ],
            "image/png": "[encoded data removed]"
          },
          "metadata": {}
        }
      ]
    },
    {
      "cell_type": "markdown",
      "source": [
        "More number of Accidents were observed in December Month"
      ],
      "metadata": {
        "id": "ijayoj8Yilw0"
      }
    },
    {
      "cell_type": "code",
      "source": [
        "# number of Accidents in a particular year month wise\n",
        "\n",
        "df_2019 =df.Start_Time[df.Start_Time.dt.year==2019]\n",
        "sns.distplot(df_2019.dt.month,bins=12,kde=False,norm_hist=True)\n"
      ],
      "metadata": {
        "colab": {
          "base_uri": "https://localhost:8080/",
          "height": 297
        },
        "id": "tbCKlz1AjhWg",
        "outputId": "b358d655-fc10-449b-a602-0dbd1af83983"
      },
      "execution_count": 48,
      "outputs": [
        {
          "output_type": "execute_result",
          "data": {
            "text/plain": [
              "<matplotlib.axes._subplots.AxesSubplot at 0x7f2ec8934510>"
            ]
          },
          "metadata": {},
          "execution_count": 48
        },
        {
          "output_type": "display_data",
          "data": {
            "text/plain": [
              "<Figure size 432x288 with 1 Axes>"
            ],
            "image/png": "[encoded data removed]"
          },
          "metadata": {}
        }
      ]
    },
    {
      "cell_type": "code",
      "source": [
        "df_2019 =df.Start_Time[df.Start_Time.dt.year==2019]\n",
        "sns.distplot(df_2019.dt.month,bins=12,kde=False,norm_hist=True)"
      ],
      "metadata": {
        "colab": {
          "base_uri": "https://localhost:8080/",
          "height": 297
        },
        "id": "kXwY5eoClE80",
        "outputId": "15d6664c-a818-400a-9905-f6b11a5867c3"
      },
      "execution_count": 49,
      "outputs": [
        {
          "output_type": "execute_result",
          "data": {
            "text/plain": [
              "<matplotlib.axes._subplots.AxesSubplot at 0x7f2ec890fb50>"
            ]
          },
          "metadata": {},
          "execution_count": 49
        },
        {
          "output_type": "display_data",
          "data": {
            "text/plain": [
              "<Figure size 432x288 with 1 Axes>"
            ],
            "image/png": "[encoded data removed]"
          },
          "metadata": {}
        }
      ]
    },
    {
      "cell_type": "markdown",
      "source": [
        "### Start Latitude and Start Longitude"
      ],
      "metadata": {
        "id": "AjRO3AQG1Xd-"
      }
    },
    {
      "cell_type": "code",
      "source": [
        "df.Start_Lat"
      ],
      "metadata": {
        "colab": {
          "base_uri": "https://localhost:8080/"
        },
        "id": "jnAqeulDlE4M",
        "outputId": "2877f18c-36c3-4fec-895b-692b84cbdd1f"
      },
      "execution_count": 68,
      "outputs": [
        {
          "output_type": "execute_result",
          "data": {
            "text/plain": [
              "0          40.108910\n",
              "1          39.865420\n",
              "2          39.102660\n",
              "3          41.062130\n",
              "4          39.172393\n",
              "             ...    \n",
              "2845337    34.002480\n",
              "2845338    32.766960\n",
              "2845339    33.775450\n",
              "2845340    33.992460\n",
              "2845341    34.133930\n",
              "Name: Start_Lat, Length: 2845342, dtype: float64"
            ]
          },
          "metadata": {},
          "execution_count": 68
        }
      ]
    },
    {
      "cell_type": "code",
      "source": [
        "df.Start_Lng"
      ],
      "metadata": {
        "colab": {
          "base_uri": "https://localhost:8080/"
        },
        "id": "QFYNJyfQ1WX2",
        "outputId": "ea4d20d5-5848-495e-824d-808f6b9860a4"
      },
      "execution_count": 69,
      "outputs": [
        {
          "output_type": "execute_result",
          "data": {
            "text/plain": [
              "0          -83.092860\n",
              "1          -84.062800\n",
              "2          -84.524680\n",
              "3          -81.537840\n",
              "4          -84.492792\n",
              "              ...    \n",
              "2845337   -117.379360\n",
              "2845338   -117.148060\n",
              "2845339   -117.847790\n",
              "2845340   -118.403020\n",
              "2845341   -117.230920\n",
              "Name: Start_Lng, Length: 2845342, dtype: float64"
            ]
          },
          "metadata": {},
          "execution_count": 69
        }
      ]
    },
    {
      "cell_type": "code",
      "source": [
        "sns.scatterplot(x=df.Start_Lng,y=df.Start_Lat,size = 0.001)"
      ],
      "metadata": {
        "colab": {
          "base_uri": "https://localhost:8080/",
          "height": 299
        },
        "id": "vMr_t9HB1WVE",
        "outputId": "a0d03fee-c40c-4cd2-b21c-d3819c26205a"
      },
      "execution_count": 70,
      "outputs": [
        {
          "output_type": "execute_result",
          "data": {
            "text/plain": [
              "<matplotlib.axes._subplots.AxesSubplot at 0x7f2ec8766fd0>"
            ]
          },
          "metadata": {},
          "execution_count": 70
        },
        {
          "output_type": "display_data",
          "data": {
            "text/plain": [
              "<Figure size 432x288 with 1 Axes>"
            ],
            "image/png": "[encoded data removed]"
          },
          "metadata": {}
        }
      ]
    },
    {
      "cell_type": "code",
      "source": [
        "# using folium library to locate the accidents on world map\n",
        "\n",
        "import folium"
      ],
      "metadata": {
        "id": "ohvE8Itz1WSc"
      },
      "execution_count": 71,
      "outputs": []
    },
    {
      "cell_type": "code",
      "source": [
        "lat,lon = df.Start_Lat[0],df.Start_Lng[0]"
      ],
      "metadata": {
        "id": "W1mUekBo1WPe"
      },
      "execution_count": 75,
      "outputs": []
    },
    {
      "cell_type": "code",
      "source": [
        "map = folium.Map()\n",
        "marker = folium.Marker((lat,lon))\n",
        "marker.add_to(map)\n",
        "map"
      ],
      "metadata": {
        "colab": {
          "base_uri": "https://localhost:8080/",
          "height": 763
        },
        "id": "KhIfS6l81WMk",
        "outputId": "ff97de71-fc28-4ba6-9cc9-04bc949b75fe"
      },
      "execution_count": 80,
      "outputs": [
        {
          "output_type": "execute_result",
          "data": {
            "text/plain": [
              "<folium.folium.Map at 0x7f2ec3c32690>"
            ],
            "text/html": [
              "<div style=\"width:100%;\"><div style=\"position:relative;width:100%;height:0;padding-bottom:60%;\"><span style=\"color:#565656\">Make this Notebook Trusted to load map: File -> Trust Notebook</span><iframe srcdoc=\"&lt;!DOCTYPE html&gt;\n",
              "&lt;head&gt;    \n",
              "    &lt;meta http-equiv=&quot;content-type&quot; content=&quot;text/html; charset=UTF-8&quot; /&gt;\n",
              "    \n",
              "        &lt;script&gt;\n",
              "            L_NO_TOUCH = false;\n",
              "            L_DISABLE_3D = false;\n",
              "        &lt;/script&gt;\n",
              "    \n",
              "    &lt;style&gt;html, body {width: 100%;height: 100%;margin: 0;padding: 0;}&lt;/style&gt;\n",
              "    &lt;style&gt;#map {position:absolute;top:0;bottom:0;right:0;left:0;}&lt;/style&gt;\n",
              "    &lt;script src=&quot;https://cdn.jsdelivr.net/npm/leaflet@1.6.0/dist/leaflet.js&quot;&gt;&lt;/script&gt;\n",
              "    &lt;script src=&quot;https://code.jquery.com/jquery-1.12.4.min.js&quot;&gt;&lt;/script&gt;\n",
              "    &lt;script src=&quot;https://maxcdn.bootstrapcdn.com/bootstrap/3.2.0/js/bootstrap.min.js&quot;&gt;&lt;/script&gt;\n",
              "    &lt;script src=&quot;https://cdnjs.cloudflare.com/ajax/libs/Leaflet.awesome-markers/2.0.2/leaflet.awesome-markers.js&quot;&gt;&lt;/script&gt;\n",
              "    &lt;link rel=&quot;stylesheet&quot; href=&quot;https://cdn.jsdelivr.net/npm/leaflet@1.6.0/dist/leaflet.css&quot;/&gt;\n",
              "    &lt;link rel=&quot;stylesheet&quot; href=&quot;https://maxcdn.bootstrapcdn.com/bootstrap/3.2.0/css/bootstrap.min.css&quot;/&gt;\n",
              "    &lt;link rel=&quot;stylesheet&quot; href=&quot;https://maxcdn.bootstrapcdn.com/bootstrap/3.2.0/css/bootstrap-theme.min.css&quot;/&gt;\n",
              "    &lt;link rel=&quot;stylesheet&quot; href=&quot;https://maxcdn.bootstrapcdn.com/font-awesome/4.6.3/css/font-awesome.min.css&quot;/&gt;\n",
              "    &lt;link rel=&quot;stylesheet&quot; href=&quot;https://cdnjs.cloudflare.com/ajax/libs/Leaflet.awesome-markers/2.0.2/leaflet.awesome-markers.css&quot;/&gt;\n",
              "    &lt;link rel=&quot;stylesheet&quot; href=&quot;https://cdn.jsdelivr.net/gh/python-visualization/folium/folium/templates/leaflet.awesome.rotate.min.css&quot;/&gt;\n",
              "    \n",
              "            &lt;meta name=&quot;viewport&quot; content=&quot;width=device-width,\n",
              "                initial-scale=1.0, maximum-scale=1.0, user-scalable=no&quot; /&gt;\n",
              "            &lt;style&gt;\n",
              "                #map_c8c0bfc56a33f0c9e9bf2558d4c8d33f {\n",
              "                    position: relative;\n",
              "                    width: 100.0%;\n",
              "                    height: 100.0%;\n",
              "                    left: 0.0%;\n",
              "                    top: 0.0%;\n",
              "                }\n",
              "            &lt;/style&gt;\n",
              "        \n",
              "&lt;/head&gt;\n",
              "&lt;body&gt;    \n",
              "    \n",
              "            &lt;div class=&quot;folium-map&quot; id=&quot;map_c8c0bfc56a33f0c9e9bf2558d4c8d33f&quot; &gt;&lt;/div&gt;\n",
              "        \n",
              "&lt;/body&gt;\n",
              "&lt;script&gt;    \n",
              "    \n",
              "            var map_c8c0bfc56a33f0c9e9bf2558d4c8d33f = L.map(\n",
              "                &quot;map_c8c0bfc56a33f0c9e9bf2558d4c8d33f&quot;,\n",
              "                {\n",
              "                    center: [0, 0],\n",
              "                    crs: L.CRS.EPSG3857,\n",
              "                    zoom: 1,\n",
              "                    zoomControl: true,\n",
              "                    preferCanvas: false,\n",
              "                }\n",
              "            );\n",
              "\n",
              "            \n",
              "\n",
              "        \n",
              "    \n",
              "            var tile_layer_84f4ad324f24a77ff97b85acb46340f2 = L.tileLayer(\n",
              "                &quot;https://{s}.tile.openstreetmap.org/{z}/{x}/{y}.png&quot;,\n",
              "                {&quot;attribution&quot;: &quot;Data by \\u0026copy; \\u003ca href=\\&quot;http://openstreetmap.org\\&quot;\\u003eOpenStreetMap\\u003c/a\\u003e, under \\u003ca href=\\&quot;http://www.openstreetmap.org/copyright\\&quot;\\u003eODbL\\u003c/a\\u003e.&quot;, &quot;detectRetina&quot;: false, &quot;maxNativeZoom&quot;: 18, &quot;maxZoom&quot;: 18, &quot;minZoom&quot;: 0, &quot;noWrap&quot;: false, &quot;opacity&quot;: 1, &quot;subdomains&quot;: &quot;abc&quot;, &quot;tms&quot;: false}\n",
              "            ).addTo(map_c8c0bfc56a33f0c9e9bf2558d4c8d33f);\n",
              "        \n",
              "    \n",
              "            var marker_44ce7c91c54986ea34019fa3fcc50f89 = L.marker(\n",
              "                [40.10891, -83.09286],\n",
              "                {}\n",
              "            ).addTo(map_c8c0bfc56a33f0c9e9bf2558d4c8d33f);\n",
              "        \n",
              "&lt;/script&gt;\" style=\"position:absolute;width:100%;height:100%;left:0;top:0;border:none !important;\" allowfullscreen webkitallowfullscreen mozallowfullscreen></iframe></div></div>"
            ]
          },
          "metadata": {},
          "execution_count": 80
        }
      ]
    },
    {
      "cell_type": "code",
      "source": [
        "# creating heat map of accidents\n",
        "\n",
        "from folium.plugins import HeatMap"
      ],
      "metadata": {
        "id": "yJRLno_u1WJl"
      },
      "execution_count": 96,
      "outputs": []
    },
    {
      "cell_type": "code",
      "source": [
        "sample_df = df.sample(int(0.01*len(df)))\n",
        "lat_lon_pairs=list(zip(list(sample_df.Start_Lat),list(sample_df.Start_Lng)))"
      ],
      "metadata": {
        "id": "_yaNOryU9Fcd"
      },
      "execution_count": 103,
      "outputs": []
    },
    {
      "cell_type": "code",
      "source": [
        "\n",
        "map = folium.Map()\n",
        "folium.plugins.HeatMap(lat_lon_pairs[:1000]).add_to(map)\n",
        "map"
      ],
      "metadata": {
        "colab": {
          "base_uri": "https://localhost:8080/",
          "height": 763
        },
        "id": "_n5HyERJ9FZW",
        "outputId": "aaa0f695-d071-4235-8824-fed5a782d84d"
      },
      "execution_count": 104,
      "outputs": [
        {
          "output_type": "execute_result",
          "data": {
            "text/plain": [
              "<folium.folium.Map at 0x7f2ec3b4d310>"
            ],
            "text/html": [
              "<div style=\"width:100%;\"><div style=\"position:relative;width:100%;height:0;padding-bottom:60%;\"><span style=\"color:#565656\">Make this Notebook Trusted to load map: File -> Trust Notebook</span><iframe srcdoc=\"&lt;!DOCTYPE html&gt;\n",
              "&lt;head&gt;    \n",
              "    &lt;meta http-equiv=&quot;content-type&quot; content=&quot;text/html; charset=UTF-8&quot; /&gt;\n",
              "    \n",
              "        &lt;script&gt;\n",
              "            L_NO_TOUCH = false;\n",
              "            L_DISABLE_3D = false;\n",
              "        &lt;/script&gt;\n",
              "    \n",
              "    &lt;style&gt;html, body {width: 100%;height: 100%;margin: 0;padding: 0;}&lt;/style&gt;\n",
              "    &lt;style&gt;#map {position:absolute;top:0;bottom:0;right:0;left:0;}&lt;/style&gt;\n",
              "    &lt;script src=&quot;https://cdn.jsdelivr.net/npm/leaflet@1.6.0/dist/leaflet.js&quot;&gt;&lt;/script&gt;\n",
              "    &lt;script src=&quot;https://code.jquery.com/jquery-1.12.4.min.js&quot;&gt;&lt;/script&gt;\n",
              "    &lt;script src=&quot;https://maxcdn.bootstrapcdn.com/bootstrap/3.2.0/js/bootstrap.min.js&quot;&gt;&lt;/script&gt;\n",
              "    &lt;script src=&quot;https://cdnjs.cloudflare.com/ajax/libs/Leaflet.awesome-markers/2.0.2/leaflet.awesome-markers.js&quot;&gt;&lt;/script&gt;\n",
              "    &lt;link rel=&quot;stylesheet&quot; href=&quot;https://cdn.jsdelivr.net/npm/leaflet@1.6.0/dist/leaflet.css&quot;/&gt;\n",
              "    &lt;link rel=&quot;stylesheet&quot; href=&quot;https://maxcdn.bootstrapcdn.com/bootstrap/3.2.0/css/bootstrap.min.css&quot;/&gt;\n",
              "    &lt;link rel=&quot;stylesheet&quot; href=&quot;https://maxcdn.bootstrapcdn.com/bootstrap/3.2.0/css/bootstrap-theme.min.css&quot;/&gt;\n",
              "    &lt;link rel=&quot;stylesheet&quot; href=&quot;https://maxcdn.bootstrapcdn.com/font-awesome/4.6.3/css/font-awesome.min.css&quot;/&gt;\n",
              "    &lt;link rel=&quot;stylesheet&quot; href=&quot;https://cdnjs.cloudflare.com/ajax/libs/Leaflet.awesome-markers/2.0.2/leaflet.awesome-markers.css&quot;/&gt;\n",
              "    &lt;link rel=&quot;stylesheet&quot; href=&quot;https://cdn.jsdelivr.net/gh/python-visualization/folium/folium/templates/leaflet.awesome.rotate.min.css&quot;/&gt;\n",
              "    \n",
              "            &lt;meta name=&quot;viewport&quot; content=&quot;width=device-width,\n",
              "                initial-scale=1.0, maximum-scale=1.0, user-scalable=no&quot; /&gt;\n",
              "            &lt;style&gt;\n",
              "                #map_319d6dab20292a491d42d647022074ac {\n",
              "                    position: relative;\n",
              "                    width: 100.0%;\n",
              "                    height: 100.0%;\n",
              "                    left: 0.0%;\n",
              "                    top: 0.0%;\n",
              "                }\n",
              "            &lt;/style&gt;\n",
              "        \n",
              "    &lt;script src=&quot;https://cdn.jsdelivr.net/gh/python-visualization/folium@master/folium/templates/leaflet_heat.min.js&quot;&gt;&lt;/script&gt;\n",
              "&lt;/head&gt;\n",
              "&lt;body&gt;    \n",
              "    \n",
              "            &lt;div class=&quot;folium-map&quot; id=&quot;map_319d6dab20292a491d42d647022074ac&quot; &gt;&lt;/div&gt;\n",
              "        \n",
              "&lt;/body&gt;\n",
              "&lt;script&gt;    \n",
              "    \n",
              "            var map_319d6dab20292a491d42d647022074ac = L.map(\n",
              "                &quot;map_319d6dab20292a491d42d647022074ac&quot;,\n",
              "                {\n",
              "                    center: [0, 0],\n",
              "                    crs: L.CRS.EPSG3857,\n",
              "                    zoom: 1,\n",
              "                    zoomControl: true,\n",
              "                    preferCanvas: false,\n",
              "                }\n",
              "            );\n",
              "\n",
              "            \n",
              "\n",
              "        \n",
              "    \n",
              "            var tile_layer_f0b4ce6db8a4928f4d7d8df483ee5487 = L.tileLayer(\n",
              "                &quot;https://{s}.tile.openstreetmap.org/{z}/{x}/{y}.png&quot;,\n",
              "                {&quot;attribution&quot;: &quot;Data by \\u0026copy; \\u003ca href=\\&quot;http://openstreetmap.org\\&quot;\\u003eOpenStreetMap\\u003c/a\\u003e, under \\u003ca href=\\&quot;http://www.openstreetmap.org/copyright\\&quot;\\u003eODbL\\u003c/a\\u003e.&quot;, &quot;detectRetina&quot;: false, &quot;maxNativeZoom&quot;: 18, &quot;maxZoom&quot;: 18, &quot;minZoom&quot;: 0, &quot;noWrap&quot;: false, &quot;opacity&quot;: 1, &quot;subdomains&quot;: &quot;abc&quot;, &quot;tms&quot;: false}\n",
              "            ).addTo(map_319d6dab20292a491d42d647022074ac);\n",
              "        \n",
              "    \n",
              "            var heat_map_4d0cea8c592a10c25991da529847e32a = L.heatLayer(\n",
              "                [[27.785515000000004, -82.35848299999998], [36.60559, -121.55704], [28.407427, -81.40453000000002], [25.869279, -80.20992], [39.540544, -106.216642], [33.34891, -84.12431], [27.33968, -82.53108], [42.308317, -122.84561200000002], [43.662997, -116.475302], [38.56775800000001, -121.511391], [37.51683, -122.25929], [29.745099, -95.441613], [43.619797, -116.211735], [43.589132, -70.387529], [38.559024, -121.47481], [42.10424, -75.88705999999998], [38.496407, -122.760651], [37.144158, -121.984813], [33.638561, -112.361579], [39.370011, -76.513499], [27.09894, -82.14943000000002], [32.84480300000001, -96.912812], [34.26375, -119.00177], [39.184917, -78.13732900000002], [37.300729, -80.078843], [38.58891, -121.41527], [46.026127, -112.547278], [40.659972, -74.001678], [33.741712, -79.47222], [25.909895, -80.236127], [38.796318, -77.336872], [45.52225, -122.66555], [38.77529000000001, -77.088397], [41.9392, -87.719647], [34.148315000000004, -118.46957], [43.034293, -122.367401], [25.948502, -80.148765], [25.810843, -80.181816], [28.61133400000001, -81.45085], [28.087968, -82.462814], [32.720354, -96.865134], [42.24073, -87.86261], [33.996046, -117.36357], [25.717278, -80.325764], [37.630076, -77.571485], [26.10627, -80.2785], [41.048211, -77.21303], [41.76580300000001, -72.656203], [38.903535, -77.019902], [33.17002, -87.55266], [41.86022, -88.01236], [38.762798, -77.08430600000001], [36.114982, -86.747298], [36.305749, -119.713172], [27.76553, -80.954829], [35.359626, -119.039595], [40.83823, -73.88193000000003], [44.31778, -120.6667], [48.104414, -114.159019], [38.350092, -77.480487], [41.899355, -88.037749], [35.122736, -120.393859], [39.707589, -75.597595], [37.2547, -121.79239], [30.165634000000004, -97.786785], [34.912754, -82.10620899999998], [40.974111, -78.52618000000002], [34.144552000000004, -117.298933], [41.192239, -112.004531], [41.94063, -88.15043], [28.443119, -81.470263], [33.856097, -118.095763], [29.68377700000001, -95.275807], [35.172354, -80.74641700000002], [33.744858, -84.39733100000002], [45.06941, -93.27998], [36.312904, -119.313797], [40.75177, -111.629649], [40.8607, -73.82807], [47.612482, -122.32803], [39.10432, -94.67634], [34.922937, -117.189004], [25.963134, -80.162047], [34.019981, -118.239541], [33.76591, -117.94246], [35.767258, -78.74113299999998], [36.210948, -119.260271], [27.322874, -82.527658], [41.6882, -83.64064], [27.179489, -80.316807], [42.988768, -87.888458], [40.75699, -74.0542], [40.039499, -75.63270899999998], [37.249443, -121.782744], [34.14530300000001, -118.368319], [25.752039, -80.299591], [25.80771, -80.262948], [40.712153, -74.225473], [33.755193, -117.851945], [27.44243, -82.46374], [27.47568900000001, -82.433959], [42.36162, -83.07822], [35.676523, -119.227205], [37.100991, -121.12284], [37.71533, -122.17277], [44.7252, -95.59202], [37.606292, -122.094292], [35.110195000000004, -81.31546], [38.833677, -77.218223], [40.804381, -73.91829399999997], [25.670371, -80.3219], [37.61097, -93.410224], [40.823259, -111.937669], [34.279397, -118.869176], [42.77778, -117.79354], [25.672248, -80.37461], [40.652982, -111.45678999999998], [40.810958, -73.966945], [44.051903, -93.045755], [32.287084, -111.011881], [34.050201, -117.303671], [25.483784, -80.433497], [41.730615, -72.660892], [33.753284, -118.291257], [38.59639, -121.44366], [33.649159000000004, -117.911399], [34.14335, -118.22713], [30.085173, -97.687017], [44.954112, -93.078714], [29.718605, -95.504168], [35.59186300000001, -78.61834499999998], [34.120528, -117.872736], [27.965317, -82.453551], [47.77785, -122.337243], [38.58896, -121.419663], [25.928715, -80.293425], [47.406617, -122.220507], [32.672987, -96.762481], [33.81586, -118.305726], [40.080289, -75.25568100000002], [27.488058, -81.48201800000002], [37.477508, -76.913448], [26.492757, -81.805756], [33.48752, -112.06505], [39.824541, -75.082071], [45.529972, -122.646056], [39.65311, -104.8987], [35.38083599999999, -77.221924], [34.155559999999994, -118.431244], [42.474561, -83.164335], [35.264943, -119.222484], [30.659296, -87.885853], [33.892744, -118.282335], [39.817573, -86.031159], [25.770159, -80.369194], [39.93994, -75.361067], [38.70436, -121.31317], [40.690671, -74.103835], [42.47603, -83.11779], [41.799512, -72.654958], [37.327479, -121.875496], [40.570518, -111.97726000000002], [39.255255, -94.589334], [33.85217, -117.971652], [37.99055300000001, -84.456648], [37.820467, -122.341097], [32.499966, -93.780289], [39.58043, -104.88086], [33.673857, -117.317751], [38.258162, -122.316077], [41.88527, -71.37874000000002], [36.070284, -115.20788], [35.330015, -120.83983700000002], [39.373337, -78.038903], [38.221612, -122.257619], [33.461791, -112.044378], [44.929674, -93.024189], [39.08920300000001, -78.208157], [36.156055, -86.773961], [34.93640300000001, -81.992172], [37.413322, -106.896736], [38.54816, -90.287672], [29.657553000000004, -95.156254], [38.338964, -85.812439], [37.331117, -119.655526], [47.62863, -122.32738], [33.76591, -117.938371], [34.110172, -80.932795], [34.607856, -79.679121], [38.879449, -77.246792], [40.061189, -74.976796], [39.18372, -84.59909], [40.84956500000001, -73.94224799999998], [43.632233, -116.354282], [32.639598, -117.099889], [37.521786, -122.266452], [35.015367, -85.11210799999998], [41.490029, -73.171502], [36.775207, -76.229789], [34.237668, -119.123581], [35.346696, -118.985289], [35.895366, -78.573371], [25.92094, -80.195992], [37.49278, -77.48822], [33.941, -117.270208], [36.169958, -86.7977], [33.440670000000004, -111.97995], [28.662906, -80.843877], [27.182278000000004, -82.483602], [34.44475, -77.87552], [34.189807, -117.152098], [37.49028, -121.94523], [36.996443, -120.086811], [38.22335, -85.7951], [27.857181, -82.325609], [32.76043, -117.126818], [37.369593, -77.522512], [33.931254, -118.394009], [34.205442, -118.218061], [35.80967000000001, -78.60199], [36.352168, -121.898396], [41.57235, -87.2842], [40.72488, -111.98708], [30.362, -97.68559], [37.960629, -122.50954], [32.64947, -117.06451], [38.825838, -77.633422], [34.949323, -80.846618], [45.511416, -122.705996], [28.327372, -82.501548], [39.87282, -75.07866], [25.814582, -80.206182], [26.136734, -80.1695], [35.81265, -78.60884], [43.162125, -77.55261800000002], [34.030312, -117.645324], [27.952189, -82.365386], [36.326991, -119.327133], [33.169290000000004, -117.21787], [40.17718, -111.64643999999998], [40.02452, -78.362369], [47.458008, -122.263401], [34.028252, -117.550052], [34.019132, -117.389084], [26.633281, -81.72722900000002], [45.060902, -123.556494], [35.391454, -84.718536], [32.72858, -96.805491], [33.91953, -84.33372], [38.52697, -121.32743], [26.381, -80.111136], [35.20895200000001, -87.026791], [28.474201, -81.396745], [43.147381, -77.644879], [33.912637, -118.265276], [25.964454, -80.168609], [25.804332, -80.321], [38.905046, -77.069117], [25.78166, -80.33199], [36.215236, -119.329196], [28.071735, -82.767658], [41.340206, -75.306991], [39.964247, -75.184563], [34.068497, -117.861088], [37.30715900000001, -76.686256], [32.936265, -80.038962], [33.13422, -117.12666000000002], [40.93911, -74.12661999999997], [34.123197999999995, -118.477915], [40.81684, -74.046273], [33.960016, -118.283889], [38.680612, -77.231418], [34.145990000000005, -117.189456], [44.890279, -93.2838], [29.970115000000003, -90.069502], [30.397136, -97.735846], [34.975601, -81.044662], [33.87151, -117.6661], [40.716458, -74.21682], [34.007437, -118.158748], [25.923052, -80.309213], [32.162567, -111.107676], [40.78945, -111.91518], [25.769762, -80.32007], [42.988761, -85.60472800000002], [45.595471, -118.645984], [45.72121, -122.65391], [37.60625, -122.38586], [41.46539, -74.069734], [36.84852, -81.485563], [34.072990000000004, -117.7846], [47.56567800000001, -122.288612], [37.723395, -121.94029], [37.828028, -122.29443700000002], [34.097836, -80.85609000000002], [48.087619, -114.232224], [41.46236, -81.8828], [41.287706, -72.823136], [35.848172, -78.580223], [46.94431, -119.9636], [35.399805, -119.398845], [33.772618, -81.174521], [28.450912, -81.46547199999998], [33.334305, -111.84166], [38.427869, -122.768708], [42.941323, -78.766271], [39.74506, -84.09416], [33.927357, -117.419699], [36.042186, -86.782026], [29.862340000000003, -95.40383], [26.08409, -80.19263000000002], [40.833523, -73.931646], [27.679047, -82.424761], [38.61479, -121.150473], [36.606563, -78.14911], [30.195315, -97.777885], [34.437046, -119.857092], [26.556572, -81.875023], [37.64752, -122.095925], [41.350218, -122.365194], [36.10085, -95.91434], [32.605540000000005, -97.32037], [34.998256, -85.265951], [38.581377, -121.463395], [29.77361, -95.25166], [33.93128, -118.38378], [25.8878, -80.32394000000002], [47.546738, -122.308978], [36.141163, -86.721921], [45.47821, -122.56556], [33.90473, -84.47538], [33.882774, -79.45280799999998], [33.293686, -111.746286], [25.76413, -80.32054000000002], [37.18944000000001, -121.99237], [25.637589, -80.369072], [34.01653, -118.189196], [32.171494, -111.077541], [29.43431, -98.49753], [41.77106, -72.678347], [29.835769, -95.345512], [40.69127, -73.88596], [30.490575, -86.12004], [34.212009, -117.084049], [34.746109000000004, -82.194209], [28.430766, -81.447812], [41.797424, -72.799298], [27.38327, -82.44711], [34.010308, -117.823429], [38.988655, -76.88323199999998], [41.011114, -78.166151], [34.090488, -117.693902], [33.67265, -112.00683], [39.096704, -94.59545], [44.413349, -124.01441], [38.996068, -112.32008799999998], [35.21267, -80.66139], [25.684325, -80.41642900000002], [25.624072, -80.414429], [30.261332, -82.107871], [25.654291, -80.415635], [39.521435, -86.02479100000002], [34.063897999999995, -118.247713], [41.274615, -122.285021], [34.120922, -117.904638], [38.928999, -77.211711], [28.227225, -81.656553], [39.62145200000001, -77.78935], [38.634085, -121.382863], [39.902922, -121.627003], [32.763708, -96.688495], [33.83459000000001, -84.42801999999998], [33.958559, -118.231222], [40.694573, -74.261985], [37.62451400000001, -122.42839], [32.780770000000004, -96.78397], [29.40309, -98.4808], [37.544968, -77.36881899999999], [42.70224, -71.20997], [47.47889, -122.27157], [28.341573, -81.38047399999998], [47.37159000000001, -92.50943], [34.06786, -117.4028], [34.092143, -117.302027], [33.52407, -112.1863], [38.692791, -121.088602], [40.90241, -74.19556], [40.047601, -80.66064399999998], [33.924607, -117.191452], [33.949762, -118.091829], [33.55934, -117.67286], [43.180842, -77.599182], [35.43825, -82.53397], [28.542812, -81.414901], [31.325018, -89.347877], [36.764685, -119.84462], [39.79762, -86.10101], [38.056998, -102.201292], [34.139713, -117.24509], [38.561595, -121.896088], [37.826986, -122.284454], [37.540754, -77.376977], [45.498029, -122.622636], [34.795674, -118.858202], [34.99728, -90.87102], [30.317190000000004, -81.677502], [36.162631, -95.942529], [34.331433000000004, -79.193236], [33.181138, -117.342703], [43.022249, -78.132676], [33.068901000000004, -97.241159], [33.45125, -112.1001], [28.518646, -81.289229], [44.102614, -121.299376], [30.32747, -81.584554], [34.072476, -117.940753], [40.06907, -75.32184000000002], [45.56996, -122.67873], [42.678441, -73.72404], [36.619738, -121.841953], [42.49453, -83.29499], [28.50246, -81.376253], [38.8397, -75.789117], [28.355697, -81.495825], [37.31453, -121.82792], [40.542391, -78.417124], [25.808224, -80.313148], [25.491962, -80.453748], [39.125703, -121.575746], [33.958708, -118.170222], [35.46445, -97.619], [29.63031, -95.17059], [35.14802, -90.298508], [27.325726, -82.443473], [38.833891, -77.450147], [40.498901, -80.02171], [32.762152, -96.774524], [29.967199, -90.11189], [41.42472, -81.85985], [37.479543, -79.784538], [44.074364, -73.668097], [34.029792, -117.712334], [40.584287, -111.899927], [28.067727, -82.743138], [44.55276, -123.00534], [39.088829, -94.487475], [26.040663, -80.163366], [40.72871, -74.53909200000002], [25.912223, -80.210048], [33.823370000000004, -84.11235], [37.351618, -77.455097], [38.863803, -77.336529], [39.90442, -74.82496], [40.84507, -73.91626], [44.960439, -93.202789], [40.58716, -73.99158], [42.010173, -72.586016], [46.453826, -94.654207], [34.03496, -118.33759], [41.06153, -81.50536], [33.69206, -84.40299], [25.801189, -80.369279], [37.82494000000001, -122.31361], [39.534376, -74.494782], [27.418538, -82.532719], [35.839832, -78.676859], [27.298751, -82.4414], [40.54055, -112.298347], [30.527731, -81.63606999999998], [29.94137000000001, -90.09625], [40.92351, -73.8238], [34.034123, -118.355615], [35.418856, -82.123003], [33.000436, -80.209497], [33.818107, -117.876179], [34.153864, -118.341159], [36.73345, -119.49591], [33.776990000000005, -117.83089], [32.714699, -96.618497], [35.575841, -82.58296], [38.79473, -77.144697], [38.022415, -121.933849], [37.732739, -120.839588], [36.532641, -119.845272], [25.837017000000003, -80.321883], [34.163545, -118.626124], [37.771307, -122.408553], [41.748659, -87.769272], [39.006877, -76.98015], [42.494698, -87.950137], [39.096931, -94.658203], [37.429114, -77.49237600000002], [32.546514, -93.787719], [44.861758, -93.297947], [39.161727, -76.97372299999998], [29.787379, -95.513946], [28.451938, -81.400468], [33.94498, -118.297354], [36.17357, -86.86968], [41.99947, -88.14475999999998], [30.487543, -84.41882700000002], [40.166615, -75.125461], [28.527691, -81.847192], [42.48531, -83.45730999999998], [38.105776, -120.909207], [34.224488, -118.473282], [38.131278, -122.225202], [37.4782, -121.93349], [30.360767, -97.693393], [34.002734000000004, -117.375592], [46.631703, -114.078824], [40.39578, -80.03309], [40.723633, -73.755764], [34.019037, -117.842335], [38.05446, -121.37139], [45.30985, -121.79137], [34.220979, -80.98256500000002], [27.8791, -82.70018], [34.087856, -117.301948], [42.240151, -87.904841], [33.87403, -84.276519], [29.78541400000001, -95.437244], [45.41798, -122.42275], [35.34112000000001, -80.72734], [42.87782, -89.06088000000004], [44.93657, -92.96069], [34.684814, -82.859627], [38.779058, -75.88040699999998], [35.114631, -80.752421], [38.001075, -122.053481], [37.632158, -122.437211], [35.644463, -120.643321], [40.382068, -123.016605], [36.48921, -119.824514], [48.192786, -114.330519], [33.136586, -117.171051], [25.702037, -80.33917], [33.617940999999995, -78.9988], [34.74912, -86.59919000000002], [37.97069000000001, -122.32042], [37.27576, -121.94634], [34.008771, -118.15883], [33.397675, -86.778033], [44.86107, -93.16717], [38.641694, -121.425179], [42.389536, -87.92405], [34.057607, -117.272054], [38.18920900000001, -121.260914], [42.28017, -87.90973000000002], [33.936984, -117.102949], [33.451411, -112.096916], [33.461641, -112.14843700000002], [40.7589, -73.42204], [37.699769, -122.471284], [34.010982, -117.07031200000002], [34.074472, -117.545031], [38.84678, -77.13746], [47.03953, -113.16988700000002], [36.92322100000001, -119.807521], [33.995602000000005, -117.875425], [29.69786, -95.28521], [38.56456, -121.49713], [34.986822, -85.049536], [41.08918, -74.04126], [38.904319, -77.017602], [40.641549, -111.80853700000002], [40.72427, -111.94367], [40.92376, -74.78495], [34.030448, -117.581803], [39.580551, -76.106095], [37.004197, -121.769013], [38.650672, -121.475925], [34.030552, -117.645062], [39.93951, -82.91545], [25.900373, -80.257913], [33.736974, -117.823163], [28.340064, -81.59699300000003], [44.932763, -123.095741], [30.384491, -98.085597], [45.01824000000001, -122.98941], [42.81692, -71.49679], [35.27184000000001, -80.84302], [25.71377, -80.382491], [34.024961, -118.238215], [36.06778900000001, -86.993267], [40.46006, -86.848737], [25.715063, -80.39783], [44.97738, -93.34453], [34.060539, -118.215215], [37.250762, -121.906116], [28.576429, -81.45146899999997], [42.8802, -78.87862], [28.341068, -81.393836], [33.928931, -118.281073], [25.889668, -80.200011], [29.820706, -95.378532], [40.624278, -74.137237], [40.83734000000001, -73.88006999999998], [34.120481, -117.90758], [38.94622, -94.364796], [34.079512, -117.337975], [43.15712, -77.71204], [33.822757, -81.097789], [28.418364, -81.40460300000002], [37.558506, -120.909917], [25.929743, -80.252811], [39.32855, -76.48415], [45.50365, -122.67455], [33.88644, -118.35526000000002], [28.523066, -81.30892800000002], [35.694554, -78.835375], [37.63208, -77.50802], [41.556249, -122.487959], [37.690604, -122.131909], [42.31909, -71.72282], [27.97178, -82.45359], [34.080901000000004, -118.704018], [33.885151, -117.549322], [25.78222, -80.22955400000002], [26.708161, -81.729214], [29.980774, -90.057614], [42.197059, -121.795367], [40.65422, -74.00791], [34.982421, -81.970083], [36.13952000000001, -86.70018], [33.773671, -84.39004], [35.054838000000004, -85.13805699999998], [35.843656, -78.682802], [42.41144, -122.94605], [32.778594, -96.832079], [33.48052, -112.17783], [36.961664, -76.519649], [41.244145, -73.106449], [33.946822, -118.299876], [42.03357000000001, -88.32030999999998], [33.785244, -118.091322], [45.617718, -95.531124], [38.559518, -121.46917], [42.496351, -123.489578], [33.113207, -80.134311], [40.650347, -73.97415500000002], [40.556105, -81.15381], [33.494863, -112.19834], [38.831487, -77.108434], [36.7465, -119.80397], [25.82996, -80.32203], [39.206052, -120.203023], [40.71351, -74.14081], [40.845209, -73.91650600000001], [45.53999, -122.67108], [38.14045, -122.22111], [39.986569, -76.26411999999998], [28.53983, -81.289976], [38.79601, -111.28769], [36.047325, -118.93725], [33.966840000000005, -118.081371], [41.833565, -90.195282], [32.933505, -80.04625], [30.411635, -86.715496], [36.203038, -120.211447], [39.40987, -104.86633], [34.202424, -117.414118], [44.93401400000001, -92.242026], [41.513516, -93.698173], [30.066194, -97.830527], [40.907221, -74.16767800000002], [43.201596, -77.641779], [34.02391, -117.76547], [40.859066, -74.376207], [34.067886, -80.92049499999997], [41.46941, -81.80535], [34.246413000000004, -117.273562], [25.8987, -80.35132], [33.408640000000005, -112.3922], [34.152390000000004, -118.09931], [34.07247, -117.29573], [36.872617, -76.384109], [35.129826, -80.942876], [34.042786, -118.272744], [47.289804, -122.320244], [28.421491, -81.392287], [38.505781, -121.242467], [34.095167, -112.14266], [34.136126000000004, -117.511598], [34.706131, -82.245141], [29.458608, -98.625349], [34.081632, -117.702817], [34.038463, -118.02102], [38.697332, -121.336708], [33.99773, -117.93485], [39.10639000000001, -94.57376], [37.31704000000001, -121.94563], [36.50664, -84.0811], [38.850657, -94.676833], [41.23683, -111.92856], [36.86863, -76.195154], [38.3541, -77.47592], [34.99415, -82.15919699999998], [38.550113, -121.474038], [37.572907, -122.31636], [40.76582, -111.4701], [34.589391, -120.408364], [35.416704, -119.421943], [38.616463, -76.876039], [39.197345, -76.70454000000002], [37.29995, -121.8138], [25.750185, -80.208788], [29.969817, -90.105766], [33.945325, -118.370054], [38.678533, -121.224742], [40.166632, -74.92349], [36.998159, -122.009326], [33.990909, -117.872887], [36.720539, -120.684577], [47.040957, -123.068386], [42.62013, -113.12726], [32.576503, -117.093709], [38.595155, -104.673693], [36.72749, -119.79553], [29.698181, -95.486615], [40.086574, -75.354049], [37.7862, -122.39069], [34.077959, -118.285505], [32.818020000000004, -97.05929], [25.930307, -80.29349599999998], [33.916428, -118.267158], [30.526014, -83.066576], [38.657713, -121.363862], [29.736733, -95.500827], [35.193036, -80.780781], [41.633108, -90.855613], [34.04938, -118.22224], [34.029608, -118.149494], [33.987765, -118.399247], [43.1724, -77.701578], [36.081508, -86.71414200000002], [28.117131, -82.74003499999998], [42.232636, -87.855187], [25.802606, -80.24007399999998], [28.293369, -80.6796], [33.880047, -117.608822], [32.700466, -96.857089], [40.734788, -73.836218], [33.962605, -118.282702], [43.63868, -95.16962], [30.28307, -97.759032], [34.96062, -82.441028], [27.431097, -82.587744], [33.5949, -117.1772], [32.390109, -97.209295], [39.06016500000001, -76.956498], [25.631644, -80.41476800000002], [33.972641, -118.079466], [30.256325, -97.734274], [39.49247800000001, -75.042672], [33.989909999999995, -118.36945], [35.149844, -90.026232], [39.065383, -121.087929], [34.064575, -118.000208], [37.56174, -122.27629], [33.960809000000005, -118.369239], [35.240749, -80.84334399999999], [33.914454, -117.286024], [25.742187, -80.2216], [35.75199, -78.69555], [25.79713, -80.317163], [27.785478, -82.679373], [32.456592, -93.727767], [37.42229, -122.22618], [41.98292, -88.1415], [36.2544, -119.224716], [39.4536, -76.3163], [38.961527, -77.036438], [45.509038, -122.708295], [41.185029, -80.43712], [29.714199, -95.602741], [42.37034, -87.86541], [40.778295, -74.048025], [25.73417, -80.302918], [30.2714, -90.9843], [32.836839000000005, -96.914868], [41.380058, -73.080807], [33.774047, -117.487986], [34.33763, -118.50744], [38.24024, -122.0672], [38.928708, -77.211913], [27.459076, -82.57535899999998], [33.05677, -117.07129], [33.99581, -84.0783], [42.720368, -73.841664], [38.70443, -121.31259], [34.156061, -118.26457], [38.86888, -77.309081], [45.576456, -122.545115], [27.334057, -81.384636], [44.2231, -124.11021], [38.846884, -120.028834], [35.051832, -85.15071800000003], [38.927613, -77.030602], [41.507323, -87.02262900000002], [33.852385, -117.882217], [33.853894, -117.535188], [47.825859, -122.253442], [40.131239, -82.97191099999998], [28.236654, -81.643728], [34.011021, -118.160952], [27.839089, -82.738493], [41.39138, -72.877], [28.806428000000004, -81.56972900000002], [37.529325, -122.273703], [34.069611, -80.972685], [38.612315, -121.401475], [43.756565, -123.095589], [28.609264000000003, -81.41595600000002], [33.200229, -117.204008], [44.10256500000001, -123.171533], [46.235334, -112.776232], [28.535283000000003, -81.392874], [47.58932, -122.23714], [30.190404, -81.678012], [44.816672, -124.06268], [35.46334500000001, -97.474882], [35.60854000000001, -118.493], [33.561609999999995, -84.3145], [38.80116, -77.52277], [34.606607000000004, -117.341697], [34.314175, -117.477332], [43.05866, -76.17357], [40.714006, -111.786298], [35.25125999999999, -80.89443], [39.85937, -75.0761], [38.866564, -77.32216899999997], [26.613946, -81.87043], [40.540907, -74.30811], [36.16773, -86.81582], [34.576532, -118.373324], [28.206816, -82.175451], [29.63287, -95.416237], [38.809259, -77.022376], [45.04537, -122.97522], [36.558645, -82.543605], [35.478018, -82.554627], [30.351079, -97.675766], [30.52763, -97.6904], [32.84365, -96.77463], [34.285486, -118.460522], [37.022406, -76.319603], [34.274539000000004, -118.538651], [37.572373, -77.456756], [45.32966, -119.56143], [25.892683, -80.124267], [40.69012, -73.56335], [42.353271, -122.877477], [33.811181, -117.962775], [34.420278, -119.597889], [37.359761, -121.840709], [33.6324, -84.40643], [39.086733, -94.680696], [39.797872, -84.217606], [36.22709, -86.77861999999998], [38.735482, -121.215815], [37.554771, -120.907814], [39.104769, -77.58145999999998], [30.242574, -98.011058], [30.164135, -97.69279], [35.426219, -118.818479], [33.913284000000004, -118.127713], [39.580551, -76.106095], [25.78169, -80.32025], [32.72909, -96.91975], [25.762153, -80.263191], [27.461802, -82.505612], [33.901070000000004, -117.46963], [35.24172, -80.84956], [41.97580900000001, -72.716757], [32.930440000000004, -96.75804], [47.0012, -93.0937], [33.568721000000004, -117.180808], [45.18923, -93.39658], [34.765945, -92.261848], [34.42678, -119.099212], [44.676858, -93.29357], [40.571061, -74.328356], [38.241283, -122.269121], [34.030796, -117.328515], [34.800084000000005, -91.753853], [25.598345, -80.377861], [34.427364000000004, -117.380008], [40.993924, -78.253656], [30.312228, -90.996612], [41.73819, -88.03508000000002], [35.249695, -85.125725], [45.363051, -118.27401299999998], [33.719819, -117.794755], [25.947192, -80.154978], [34.08209, -118.796413], [40.305887, -76.841329], [37.084211, -77.357085], [41.80445, -72.61071], [44.43421, -93.29234], [45.005246, -120.785783], [40.555247, -111.897221], [25.7866, -80.21251], [30.43775, -91.024229], [34.073114000000004, -80.984346], [41.123969, -73.31353], [40.375157, -123.327675], [45.16296, -117.867347], [25.701826, -80.344503], [27.96191, -82.4533], [40.018614, -75.62997299999998], [37.700265, -121.847634], [41.313089, -85.087877], [40.73808, -74.21733], [40.004667, -75.603961], [33.759703, -84.378989], [33.536347, -112.269593], [39.774711, -86.142288], [42.344167, -88.03323], [32.47587, -85.03031999999997], [33.970118, -118.081946], [28.4493, -81.477791], [26.325, -80.11683000000002], [32.222426, -110.84108700000002], [39.01623, -94.12458], [39.308191, -74.618657], [34.044561, -118.009842], [26.547661, -81.839324], [28.320278, -82.503523], [39.749747, -75.505889], [25.69914, -80.436869], [29.711099, -95.505023], [29.93992, -90.10579], [33.856131, -118.002652], [45.010632, -93.022452], [35.52579, -97.45961], [34.074225, -117.208796], [33.624239, -91.752417], [43.106462, -123.357306], [41.071922, -73.802669], [29.704448, -95.560177], [37.421547, -121.934605], [42.49462, -82.93205], [40.846234, -73.943363], [36.891968, -76.231759], [41.102331, -73.997908], [39.95258, -82.99876], [32.342273, -95.308804], [35.55889600000001, -82.635993], [33.670359000000005, -111.965092], [39.62894, -75.96224000000002], [38.689466, -94.680791], [38.245986, -77.499091], [26.37331, -80.17097], [34.028296999999995, -118.186256], [29.770916, -95.402234], [38.124585, -78.443698], [39.24364, -121.354048], [44.0627, -123.07584], [25.782676, -80.31620799999997], [37.89741, -122.311741], [28.182955, -82.353487], [40.41148, -74.199653], [38.452648, -121.371612], [40.61152, -74.15302], [37.732235, -122.432073], [36.773174, -119.743113], [39.12751, -77.17425], [30.261449, -97.717254], [36.849602, -76.50105699999997], [35.266835, -119.005406], [33.745562, -84.34899399999998], [33.764638, -117.972524], [28.454246, -81.399773], [30.306004, -97.995653], [32.993856, -96.855322], [44.237496, -123.199104], [35.178211, -80.880453], [34.293479999999995, -118.41343], [35.330058, -83.260772], [33.928193, -81.084038], [39.361569, -76.522924], [29.656724, -95.292278], [33.960012, -118.281863], [38.661991, -121.536667], [34.154598, -118.379003], [34.165549, -81.289135], [25.868259, -80.24149200000002], [25.942423, -80.206131], [38.576098, -121.524891], [39.731251, -75.408557], [38.436816, -90.190853], [29.183211, -81.890528], [33.953115000000004, -80.921665], [33.915786, -117.440396], [38.595451, -121.277729], [25.88802, -80.32398], [34.078886, -118.288915], [39.864897, -75.106685], [47.496074, -122.270354]],\n",
              "                {&quot;blur&quot;: 15, &quot;maxZoom&quot;: 18, &quot;minOpacity&quot;: 0.5, &quot;radius&quot;: 25}\n",
              "            ).addTo(map_319d6dab20292a491d42d647022074ac);\n",
              "        \n",
              "&lt;/script&gt;\" style=\"position:absolute;width:100%;height:100%;left:0;top:0;border:none !important;\" allowfullscreen webkitallowfullscreen mozallowfullscreen></iframe></div></div>"
            ]
          },
          "metadata": {},
          "execution_count": 104
        }
      ]
    },
    {
      "cell_type": "code",
      "source": [],
      "metadata": {
        "id": "effEXVha9FWW"
      },
      "execution_count": 85,
      "outputs": []
    },
    {
      "cell_type": "markdown",
      "source": [
        "### Summary and Insights"
      ],
      "metadata": {
        "id": "2Vy95AOqhtGu"
      }
    },
    {
      "cell_type": "markdown",
      "source": [
        "- Miami is the city in US that has observed more number of accidents between 2016-2021.\n",
        "- States wise Highest number of accidents were observed in california followed by Florida.\n",
        "- The number of accidents is most number of cities is low (0-2000) and in few cities the number of accidents are more.\n",
        "- Less than 5 percent of cities have more than 1000 accidents.\n",
        "- most accidents are between 0-100 and over 1100 cities have just reported 1 accident.\n",
        "- a high percentage of accidents took place more in between 1 pm to 7 pm and the next higher percentage of accidents in between 6 am to 8 am in a week.\n",
        "- more Accidents were observed on weekdays and less number of accidents on weekends.\n",
        "- on sundays the peak accidents take place between 12 pm to 4 pm.\n",
        "- More number of Accidents were observed in December Month.\n",
        "- More number of accidents were observed near coastal areas."
      ],
      "metadata": {
        "id": "GkEmkWZAEe9A"
      }
    }
  ]
}